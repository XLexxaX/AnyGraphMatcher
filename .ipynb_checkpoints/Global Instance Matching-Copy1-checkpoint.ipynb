{
 "cells": [
  {
   "cell_type": "code",
   "execution_count": 1,
   "metadata": {},
   "outputs": [],
   "source": [
    "from gensim.models import Doc2Vec, Word2Vec\n",
    "import numpy as np\n",
    "import pandas as pd\n",
    "from sklearn.metrics.pairwise import cosine_similarity\n",
    "from sklearn.metrics.pairwise import euclidean_distances\n",
    "pd.set_option('display.max_colwidth', -1)"
   ]
  },
  {
   "cell_type": "code",
   "execution_count": null,
   "metadata": {},
   "outputs": [],
   "source": []
  },
  {
   "cell_type": "code",
   "execution_count": 2,
   "metadata": {
    "scrolled": true
   },
   "outputs": [],
   "source": [
    "dirpath = \"C:/Users/D072202/DeepAnyMatch/DeepAnyMatch/result_data/hilti/HILTI_w2v_steps_walklength1_dim100_2019_06_18_21_22_12_049264/\"\n",
    "model = Word2Vec.load(dirpath+\"w2v.model\")\n",
    "documents_ids_A = dict()\n",
    "documents_ids_B = dict()\n",
    "training_corpus = dict()\n",
    "\n",
    "\n",
    "possible_matches = dict()\n",
    "with open('C:/Users/D072202/DeepAnyMatch/DeepAnyMatch/data/sap_hilti_data/balanced_walks/possible_matches.csv') as f:\n",
    "    for line in f:\n",
    "        line = line.replace(\"\\n\",\"\").split(\"\\t\")\n",
    "        if line[0] in possible_matches.keys():\n",
    "            possible_matches[line[0]].append(line[1])\n",
    "        else:\n",
    "            possible_matches[line[0]] = [line[1]]\n",
    "            \n",
    "        if line[1] in possible_matches.keys():\n",
    "            possible_matches[line[1]].append(line[0])\n",
    "        else:\n",
    "            possible_matches[line[1]] = [line[0]]"
   ]
  },
  {
   "cell_type": "code",
   "execution_count": 3,
   "metadata": {},
   "outputs": [],
   "source": [
    "def get_possible_matches(nid):\n",
    "    out = list()\n",
    "    for index, key in documents_ids_B.items():\n",
    "        if key in possible_matches[nid]:\n",
    "            out.append(index)\n",
    "    if len(out)<1:\n",
    "        return classes2\n",
    "    return out\n"
   ]
  },
  {
   "cell_type": "code",
   "execution_count": 4,
   "metadata": {},
   "outputs": [
    {
     "name": "stdout",
     "output_type": "stream",
     "text": [
      "Targeted http://rdata2graph.sap.com/hilti_erp/property/t179.description\n"
     ]
    }
   ],
   "source": [
    "#nodeid = 'http://rdata2graph.sap.com/hilti_erp/torx_soc_re_scr_sn65_3x25_black#63ca4fe8-20ca-4115-9b52-05ca0bed27d3'\n",
    "nodeid = 'http://rdata2graph.sap.com/hilti_erp/property/t179.description'\n",
    "#nodeid = 'http://rdata2graph.sap.com/hilti_erp/case_te_40___typ_037#bb007577-546b-4906-9fc9-4830fba5c0a9'\n",
    "\n",
    "print(\"Targeted \"+ nodeid)"
   ]
  },
  {
   "cell_type": "code",
   "execution_count": 6,
   "metadata": {},
   "outputs": [],
   "source": [
    "tmp = pd.read_csv(dirpath+\"stratified_embeddings.csv\", sep=\",\")\n",
    "classes = set(tmp.category)\n",
    "classes1 = [x for x in classes if 'hilti_erp' in x]\n",
    "classes2 = [x for x in classes if 'hilti_web' in x]\n",
    "\n",
    "\n",
    "# In[40]:\n",
    "\n",
    "\n",
    "properties = [x for x in set(tmp.loc[tmp.category == 'http://www.w3.org/2000/01/rdf-schema#property'].label) if 'mara_fert.' not in x]\n",
    "properties1 = [x for x in properties if 'hilti_erp' in x]\n",
    "properties2 = [x for x in properties if 'hilti_web' in x]\n",
    "\n"
   ]
  },
  {
   "cell_type": "code",
   "execution_count": 12,
   "metadata": {},
   "outputs": [],
   "source": [
    "all_sorted=None"
   ]
  },
  {
   "cell_type": "code",
   "execution_count": 8,
   "metadata": {
    "scrolled": true
   },
   "outputs": [
    {
     "name": "stdout",
     "output_type": "stream",
     "text": [
      "http://rdata2graph.sap.com/hilti_web/property/products.name - 0.18483178\n",
      "http://rdata2graph.sap.com/hilti_web/property/categories.name - 0.0448483\n",
      "http://rdata2graph.sap.com/hilti_web/property/products.pid - -0.06664635\n",
      "http://rdata2graph.sap.com/hilti_web/property/categories.id - -0.041259233\n",
      "http://rdata2graph.sap.com/hilti_web/property/categories.id - 5.9087367\n",
      "http://rdata2graph.sap.com/hilti_web/property/products.name - 6.0563006\n",
      "http://rdata2graph.sap.com/hilti_web/property/categories.name - 7.4556975\n",
      "http://rdata2graph.sap.com/hilti_web/property/products.pid - 7.965678\n",
      "http://rdata2graph.sap.com/hilti_erp/property/t179.description\thttp://rdata2graph.sap.com/hilti_web/property/products.name\t1.5\t1.0\t0.5\n"
     ]
    }
   ],
   "source": [
    "for nodeid in classes1:\n",
    "    #print('Closest in terms of cosine similarity:')\n",
    "    vecs = model.wv[np.array(get_possible_matches(nodeid))]\n",
    "    x = cosine_similarity(np.array([model.wv[nodeid]]), vecs)\n",
    "    x = np.concatenate((x, np.array([get_possible_matches(nodeid)])), axis=0)\n",
    "    sorted_x = pd.DataFrame(x).T.sort_values(by=[0], ascending=False)\n",
    "    sorted_x.loc[:,'score'] = 0\n",
    "    ctr = 1\n",
    "    for index, row in sorted_x.iterrows():\n",
    "        print(row[1] + \" - \" + str(row[0]))\n",
    "        sorted_x.loc[index, 'score'] = row['score'] + 1/ctr\n",
    "        ctr += 1\n",
    "    #print('Closest in terms of Euclidean distance:')\n",
    "    sorted_x2 = sorted_x\n",
    "    vecs = model.wv[np.array(get_possible_matches(nodeid))]\n",
    "    x = euclidean_distances(np.array([model.wv[nodeid]]), vecs)\n",
    "    x = np.concatenate((x, np.array([get_possible_matches(nodeid)])), axis=0)\n",
    "    sorted_x = pd.DataFrame(x).T.sort_values(by=[0], ascending=True)\n",
    "    sorted_x.loc[:,'score'] = 0\n",
    "    ctr = 1\n",
    "    for index, row in sorted_x.iterrows():\n",
    "        print(row[1] + \" - \" + str(row[0]))\n",
    "        sorted_x.loc[index, 'score'] = row['score'] + 1/ctr\n",
    "        ctr += 1\n",
    "    #print('Closest in sum:')\n",
    "    x = sorted_x2.merge(sorted_x, left_on=[1], right_on=[1])\n",
    "    x.loc[:,'total_score'] = x['score_x'] + x['score_y']\n",
    "    tmp = x.sort_values(by=['total_score'], ascending=False)\n",
    "    tmp.loc[:,'nodeid'] = nodeid\n",
    "    all_sorted = mergedf(all_sorted, tmp)"
   ]
  },
  {
   "cell_type": "code",
   "execution_count": 9,
   "metadata": {},
   "outputs": [
    {
     "name": "stdout",
     "output_type": "stream",
     "text": [
      "http://rdata2graph.sap.com/hilti_erp/property/t179.description\thttp://rdata2graph.sap.com/hilti_web/property/products.name\t1.5\t1.0\t0.5\n"
     ]
    }
   ],
   "source": [
    "\n",
    "#print('Closest in sum:')\n",
    "x = sorted_x2.merge(sorted_x, left_on=[1], right_on=[1])\n",
    "x.loc[:,'total_score'] = x['score_x'] + x['score_y']\n",
    "tmp = x.sort_values(by=['total_score'], ascending=False)\n",
    "tmp.loc[:,'nodeid'] = nodeid\n",
    "all_sorted = mergedf(all_sorted, tmp)\n",
    "#for index, row in sorted_x.loc[sorted_x.total_score == max(sorted_x.total_score.values),:].iterrows():\n",
    "#    print(nodeid + \"\\t\" + row[1] + \"\\t\" + str(row['total_score']) + \"\\t\" + str(row['score_x']) + \"\\t\" + str(row['score_y']))\n",
    "#for index, row in sorted_x.iterrows():\n",
    "#    print(documents_ids_B[row[1]] + \" - \" + str(row[]))"
   ]
  },
  {
   "cell_type": "code",
   "execution_count": 11,
   "metadata": {
    "scrolled": true
   },
   "outputs": [],
   "source": [
    "def mergedf(df1, df2):\n",
    "        if df1 is None:\n",
    "            return df2\n",
    "        else:\n",
    "            return df1.append(df2, ignore_index=True)"
   ]
  },
  {
   "cell_type": "code",
   "execution_count": 10,
   "metadata": {},
   "outputs": [
    {
     "data": {
      "text/html": [
       "<div>\n",
       "<style scoped>\n",
       "    .dataframe tbody tr th:only-of-type {\n",
       "        vertical-align: middle;\n",
       "    }\n",
       "\n",
       "    .dataframe tbody tr th {\n",
       "        vertical-align: top;\n",
       "    }\n",
       "\n",
       "    .dataframe thead th {\n",
       "        text-align: right;\n",
       "    }\n",
       "</style>\n",
       "<table border=\"1\" class=\"dataframe\">\n",
       "  <thead>\n",
       "    <tr style=\"text-align: right;\">\n",
       "      <th></th>\n",
       "      <th>0</th>\n",
       "      <th>1</th>\n",
       "      <th>score</th>\n",
       "      <th>0_x</th>\n",
       "      <th>score_x</th>\n",
       "      <th>0_y</th>\n",
       "      <th>score_y</th>\n",
       "      <th>total_score</th>\n",
       "    </tr>\n",
       "  </thead>\n",
       "  <tbody>\n",
       "    <tr>\n",
       "      <th>0</th>\n",
       "      <td>0.18483178</td>\n",
       "      <td>http://rdata2graph.sap.com/hilti_web/property/products.name</td>\n",
       "      <td>1.000000</td>\n",
       "      <td>0.18483178</td>\n",
       "      <td>1.000000</td>\n",
       "      <td>6.0563006</td>\n",
       "      <td>0.500000</td>\n",
       "      <td>1.500000</td>\n",
       "    </tr>\n",
       "    <tr>\n",
       "      <th>3</th>\n",
       "      <td>-0.041259233</td>\n",
       "      <td>http://rdata2graph.sap.com/hilti_web/property/categories.id</td>\n",
       "      <td>0.250000</td>\n",
       "      <td>-0.041259233</td>\n",
       "      <td>0.250000</td>\n",
       "      <td>5.9087367</td>\n",
       "      <td>1.000000</td>\n",
       "      <td>1.250000</td>\n",
       "    </tr>\n",
       "    <tr>\n",
       "      <th>1</th>\n",
       "      <td>0.0448483</td>\n",
       "      <td>http://rdata2graph.sap.com/hilti_web/property/categories.name</td>\n",
       "      <td>0.500000</td>\n",
       "      <td>0.0448483</td>\n",
       "      <td>0.500000</td>\n",
       "      <td>7.4556975</td>\n",
       "      <td>0.333333</td>\n",
       "      <td>0.833333</td>\n",
       "    </tr>\n",
       "    <tr>\n",
       "      <th>2</th>\n",
       "      <td>-0.06664635</td>\n",
       "      <td>http://rdata2graph.sap.com/hilti_web/property/products.pid</td>\n",
       "      <td>0.333333</td>\n",
       "      <td>-0.06664635</td>\n",
       "      <td>0.333333</td>\n",
       "      <td>7.965678</td>\n",
       "      <td>0.250000</td>\n",
       "      <td>0.583333</td>\n",
       "    </tr>\n",
       "  </tbody>\n",
       "</table>\n",
       "</div>"
      ],
      "text/plain": [
       "              0  \\\n",
       "0  0.18483178     \n",
       "3  -0.041259233   \n",
       "1  0.0448483      \n",
       "2  -0.06664635    \n",
       "\n",
       "                                                               1     score  \\\n",
       "0  http://rdata2graph.sap.com/hilti_web/property/products.name    1.000000   \n",
       "3  http://rdata2graph.sap.com/hilti_web/property/categories.id    0.250000   \n",
       "1  http://rdata2graph.sap.com/hilti_web/property/categories.name  0.500000   \n",
       "2  http://rdata2graph.sap.com/hilti_web/property/products.pid     0.333333   \n",
       "\n",
       "            0_x   score_x        0_y   score_y  total_score  \n",
       "0  0.18483178    1.000000  6.0563006  0.500000  1.500000     \n",
       "3  -0.041259233  0.250000  5.9087367  1.000000  1.250000     \n",
       "1  0.0448483     0.500000  7.4556975  0.333333  0.833333     \n",
       "2  -0.06664635   0.333333  7.965678   0.250000  0.583333     "
      ]
     },
     "execution_count": 10,
     "metadata": {},
     "output_type": "execute_result"
    }
   ],
   "source": [
    "sorted_x"
   ]
  },
  {
   "cell_type": "code",
   "execution_count": 47,
   "metadata": {},
   "outputs": [
    {
     "data": {
      "text/html": [
       "<div>\n",
       "<style scoped>\n",
       "    .dataframe tbody tr th:only-of-type {\n",
       "        vertical-align: middle;\n",
       "    }\n",
       "\n",
       "    .dataframe tbody tr th {\n",
       "        vertical-align: top;\n",
       "    }\n",
       "\n",
       "    .dataframe thead th {\n",
       "        text-align: right;\n",
       "    }\n",
       "</style>\n",
       "<table border=\"1\" class=\"dataframe\">\n",
       "  <thead>\n",
       "    <tr style=\"text-align: right;\">\n",
       "      <th></th>\n",
       "      <th>0</th>\n",
       "      <th>1</th>\n",
       "      <th>2</th>\n",
       "    </tr>\n",
       "  </thead>\n",
       "  <tbody>\n",
       "    <tr>\n",
       "      <th>0</th>\n",
       "      <td>a</td>\n",
       "      <td>b</td>\n",
       "      <td>c</td>\n",
       "    </tr>\n",
       "    <tr>\n",
       "      <th>1</th>\n",
       "      <td>1</td>\n",
       "      <td>5</td>\n",
       "      <td>7</td>\n",
       "    </tr>\n",
       "    <tr>\n",
       "      <th>2</th>\n",
       "      <td>3</td>\n",
       "      <td>8</td>\n",
       "      <td>8</td>\n",
       "    </tr>\n",
       "  </tbody>\n",
       "</table>\n",
       "</div>"
      ],
      "text/plain": [
       "   0  1  2\n",
       "0  a  b  c\n",
       "1  1  5  7\n",
       "2  3  8  8"
      ]
     },
     "execution_count": 47,
     "metadata": {},
     "output_type": "execute_result"
    }
   ],
   "source": [
    "import pandas as pd\n",
    "x = pd.DataFrame([['a','b','c'],[1,5,7],[3,8,8]])\n",
    "x"
   ]
  },
  {
   "cell_type": "code",
   "execution_count": 48,
   "metadata": {},
   "outputs": [
    {
     "data": {
      "text/plain": [
       "array([0.09699644, 1.        ])"
      ]
     },
     "execution_count": 48,
     "metadata": {},
     "output_type": "execute_result"
    }
   ],
   "source": [
    "a = np.array([[0.20947344601154327,-0.05213532969355583],[0.20947344601154327,-0.05213532969355583]])\n",
    "b = np.array([[-0.036627139896154404,-0.24773931503295898],[0.20947344601154327,-0.05213532969355583]])\n",
    "cosine_similarity(a,b)[0]"
   ]
  },
  {
   "cell_type": "code",
   "execution_count": null,
   "metadata": {},
   "outputs": [],
   "source": []
  },
  {
   "cell_type": "code",
   "execution_count": null,
   "metadata": {},
   "outputs": [],
   "source": []
  },
  {
   "cell_type": "code",
   "execution_count": 129,
   "metadata": {},
   "outputs": [],
   "source": [
    "nodeid = 'http://rdata2graph.sap.com/hilti_erp/kwik_lock_150_assy#87d1d7cd-5ff6-4adb-9960-e5244a26ea9d'\n",
    "for index, value in documents_ids_A.items():\n",
    "    if value == nodeid:\n",
    "        i = index\n",
    "nodeid2 = 'http://rdata2graph.sap.com/hilti_web/5_8_kwik_lock_spindle_dd_cs#d059d940-5225-46b5-a5ed-a94535564f64'\n",
    "for index, value in documents_ids_B.items():\n",
    "    if value == nodeid2:\n",
    "        i2 = index\n",
    "a = np.array([model.infer_vector(training_corpus[i])])#np.array([model.docvecs[i]])\n",
    "b = np.array([model.infer_vector(training_corpus[i2])])#np.array([model.docvecs[i2]])"
   ]
  },
  {
   "cell_type": "raw",
   "metadata": {},
   "source": []
  },
  {
   "cell_type": "code",
   "execution_count": 130,
   "metadata": {},
   "outputs": [
    {
     "name": "stdout",
     "output_type": "stream",
     "text": [
      "[0.78147936]\n",
      "[2.1596375]\n"
     ]
    }
   ],
   "source": [
    "print(cosine_similarity(a,b)[0])\n",
    "print(euclidean_distances(a,b)[0])"
   ]
  },
  {
   "cell_type": "code",
   "execution_count": 117,
   "metadata": {},
   "outputs": [
    {
     "name": "stdout",
     "output_type": "stream",
     "text": [
      "[0.9788133]\n",
      "[0.8127318]\n"
     ]
    }
   ],
   "source": [
    "print(cosine_similarity(a,b)[0])\n",
    "print(euclidean_distances(a,b)[0])"
   ]
  },
  {
   "cell_type": "code",
   "execution_count": 118,
   "metadata": {},
   "outputs": [
    {
     "data": {
      "text/plain": [
       "array([0.02674646, 1.2861257 ], dtype=float32)"
      ]
     },
     "execution_count": 118,
     "metadata": {},
     "output_type": "execute_result"
    }
   ],
   "source": [
    "context = ['http://rdata2graph.sap.com/hilti_erp/stator_110_120v#6dd99497-b3ad-4b7c-9224-519d68aff549', 'sta', 'tat', 'ato', 'tor', '110', '101', '012', '120', '20v', 'http://rdata2graph.sap.com/hilti_erp/#7fc668f7-bc87-4ef0-9686-62c76b4479d2', 'ele', 'lec', 'ect', 'ctr', 'tro', 'ron', 'mod', 'odu', 'dul', '345', 'ele', 'lec', 'ect', 'ctr', 'tro', 'ron', 'mod', 'odu', 'dul', '000', '001', '100', 'z00', '001', 'http://rdata2graph.sap.com/hilti_erp/t023', 'http://rdata2graph.sap.com/hilti_erp/#0e08a169-a93c-4c44-a608-820a1543aa56', 'm', 'm', 'bef', 'efe', 'fes', 'est', 'sti', 'tig', 'igu', 'gun', 'ung', 'ngs', 'gsi', 'sin', 'ind', 'ndu', 'dus', 'ust', 'str', 'tri', 'm', 'http://rdata2graph.sap.com/hilti_erp/v137', 'http://rdata2graph.sap.com/hilti_erp/#08afb57f-34d6-4bf3-9752-df939bff7578', 'eb', 'par', 'art', '9', 'http://rdata2graph.sap.com/hilti_erp/t179', 'http://rdata2graph.sap.com/hilti_erp/mara_fert', 'http://www.w3.org/2000/01/rdf-schema#class', 'http://rdata2graph.sap.com/hilti_erp/stator_110_120v#6dd99497-b3ad-4b7c-9224-519d68aff549', 'sta', 'tat', 'ato', 'tor', '110', '101', '012', '120', '20v', 'http://rdata2graph.sap.com/hilti_erp/#7fc668f7-bc87-4ef0-9686-62c76b4479d2', 'ele', 'lec', 'ect', 'ctr', 'tro', 'ron', 'mod', 'odu', 'dul', '345', 'ele', 'lec', 'ect', 'ctr', 'tro', 'ron', 'mod', 'odu', 'dul', '000', '001', '100', 'z00', '001', 'http://rdata2graph.sap.com/hilti_erp/t023', 'http://rdata2graph.sap.com/hilti_erp/#0e08a169-a93c-4c44-a608-820a1543aa56', 'm', 'm', 'bef', 'efe', 'fes', 'est', 'sti', 'tig', 'igu', 'gun', 'ung', 'ngs', 'gsi', 'sin', 'ind', 'ndu', 'dus', 'ust', 'str', 'tri', 'm', 'http://rdata2graph.sap.com/hilti_erp/v137', 'http://rdata2graph.sap.com/hilti_erp/#08afb57f-34d6-4bf3-9752-df939bff7578', 'eb', 'par', 'art', '9', 'http://rdata2graph.sap.com/hilti_erp/t179', 'http://rdata2graph.sap.com/hilti_erp/mara_fert', 'http://www.w3.org/2000/01/rdf-schema#class']\n",
    "model.infer_vector(context)"
   ]
  },
  {
   "cell_type": "code",
   "execution_count": 119,
   "metadata": {},
   "outputs": [
    {
     "data": {
      "text/plain": [
       "array([-0.15971136,  1.0846955 ], dtype=float32)"
      ]
     },
     "execution_count": 119,
     "metadata": {},
     "output_type": "execute_result"
    }
   ],
   "source": [
    "model.docvecs[823]"
   ]
  },
  {
   "cell_type": "code",
   "execution_count": 37,
   "metadata": {},
   "outputs": [
    {
     "data": {
      "text/plain": [
       "{'http://rdata2graph.sap.com/hilti_erp/mara_fert',\n",
       " 'http://rdata2graph.sap.com/hilti_erp/t023',\n",
       " 'http://rdata2graph.sap.com/hilti_erp/t179',\n",
       " 'http://rdata2graph.sap.com/hilti_erp/v137',\n",
       " 'http://rdata2graph.sap.com/hilti_web/categories',\n",
       " 'http://rdata2graph.sap.com/hilti_web/products',\n",
       " 'http://www.w3.org/2000/01/rdf-schema#class',\n",
       " 'http://www.w3.org/2000/01/rdf-schema#property',\n",
       " 'none'}"
      ]
     },
     "execution_count": 37,
     "metadata": {},
     "output_type": "execute_result"
    }
   ],
   "source": [
    "tmp = pd.read_csv(dirpath+\"stratified_embeddings.csv\", sep=\",\")\n",
    "classes = set(tmp.category)\n",
    "classes"
   ]
  },
  {
   "cell_type": "code",
   "execution_count": 40,
   "metadata": {},
   "outputs": [
    {
     "data": {
      "text/plain": [
       "['http://rdata2graph.sap.com/hilti_erp/property/t023.abtnr',\n",
       " 'http://rdata2graph.sap.com/hilti_erp/property/t023.zz_inactive',\n",
       " 'http://rdata2graph.sap.com/hilti_erp/property/t023.spart',\n",
       " 'http://rdata2graph.sap.com/hilti_erp/property/t023.id',\n",
       " 'http://rdata2graph.sap.com/hilti_erp/property/t006.temp_value',\n",
       " 'http://rdata2graph.sap.com/hilti_erp/property/t023.lref3',\n",
       " 'http://rdata2graph.sap.com/hilti_erp/property/t006.andec',\n",
       " 'http://rdata2graph.sap.com/hilti_erp/property/t179.id',\n",
       " 'http://rdata2graph.sap.com/hilti_erp/property/t023.wwgda',\n",
       " 'http://rdata2graph.sap.com/hilti_erp/property/t006.press_val',\n",
       " 'http://rdata2graph.sap.com/hilti_erp/property/v137.id',\n",
       " 'http://rdata2graph.sap.com/hilti_erp/property/t023.zz_aedat',\n",
       " 'http://rdata2graph.sap.com/hilti_web/property/categories.name',\n",
       " 'http://rdata2graph.sap.com/hilti_erp/property/v137.bbref',\n",
       " 'http://rdata2graph.sap.com/hilti_web/property/categories.description',\n",
       " 'http://rdata2graph.sap.com/hilti_erp/property/t179.stufe',\n",
       " 'http://rdata2graph.sap.com/hilti_erp/property/t006.addko',\n",
       " 'http://rdata2graph.sap.com/hilti_erp/property/v137.mbbez',\n",
       " 'http://rdata2graph.sap.com/hilti_erp/property/t006.kzex6',\n",
       " 'http://rdata2graph.sap.com/hilti_erp/property/t023.j_1bnbm',\n",
       " 'http://rdata2graph.sap.com/hilti_erp/property/t023.wwgpa',\n",
       " 'http://rdata2graph.sap.com/hilti_erp/property/v137.branchenbezeichnung',\n",
       " 'http://rdata2graph.sap.com/hilti_erp/property/t006.kzkeh',\n",
       " 'http://rdata2graph.sap.com/hilti_erp/property/t023.ekwsl',\n",
       " 'http://rdata2graph.sap.com/hilti_erp/property/t006.expon',\n",
       " 'http://rdata2graph.sap.com/hilti_erp/property/v137.brare',\n",
       " 'http://rdata2graph.sap.com/hilti_erp/property/t179.mandt',\n",
       " 'http://rdata2graph.sap.com/hilti_erp/property/t023.bklas',\n",
       " 'http://rdata2graph.sap.com/hilti_erp/property/t023.wgbez60',\n",
       " 'http://rdata2graph.sap.com/hilti_erp/property/t023.zz_aenam',\n",
       " 'http://rdata2graph.sap.com/hilti_erp/property/t023.def_schdsc',\n",
       " 'http://rdata2graph.sap.com/hilti_erp/property/t023.matkl',\n",
       " 'http://rdata2graph.sap.com/hilti_erp/property/t023.begru',\n",
       " 'http://rdata2graph.sap.com/hilti_erp/property/t179.description',\n",
       " 'http://rdata2graph.sap.com/hilti_erp/property/t006.kz2eh',\n",
       " 'http://rdata2graph.sap.com/hilti_erp/property/t006.decan',\n",
       " 'http://rdata2graph.sap.com/hilti_erp/property/v137.bbr',\n",
       " 'http://rdata2graph.sap.com/hilti_erp/property/t006.msehi',\n",
       " 'http://rdata2graph.sap.com/hilti_erp/property/t006.temp_unit',\n",
       " 'http://rdata2graph.sap.com/hilti_erp/property/v137.mbr',\n",
       " 'http://rdata2graph.sap.com/hilti_erp/property/t023.wgbez',\n",
       " 'http://rdata2graph.sap.com/hilti_web/property/categories.id',\n",
       " 'http://rdata2graph.sap.com/hilti_erp/property/t006.primary',\n",
       " 'http://rdata2graph.sap.com/hilti_erp/property/t023.zz_ekgrp',\n",
       " 'http://rdata2graph.sap.com/hilti_erp/property/t006.isocode',\n",
       " 'http://rdata2graph.sap.com/hilti_erp/property/t023.gewei',\n",
       " 'http://rdata2graph.sap.com/hilti_erp/property/t006.kzex3',\n",
       " 'http://rdata2graph.sap.com/hilti_erp/property/t006.kzwob',\n",
       " 'http://rdata2graph.sap.com/hilti_erp/property/t179.levelno',\n",
       " 'http://rdata2graph.sap.com/hilti_erp/property/t006.kz1eh',\n",
       " 'http://rdata2graph.sap.com/hilti_erp/property/t006.mandt',\n",
       " 'http://rdata2graph.sap.com/hilti_erp/property/v137.flref',\n",
       " 'http://rdata2graph.sap.com/hilti_web/property/products.pid',\n",
       " 'http://rdata2graph.sap.com/hilti_erp/property/t006.zaehl',\n",
       " 'http://rdata2graph.sap.com/hilti_erp/property/t006.famunit',\n",
       " 'http://rdata2graph.sap.com/hilti_erp/property/t006.press_unit',\n",
       " 'http://rdata2graph.sap.com/hilti_erp/property/t006.nennr',\n",
       " 'http://rdata2graph.sap.com/hilti_web/property/products.description',\n",
       " 'http://rdata2graph.sap.com/hilti_erp/property/t179.prodh',\n",
       " 'http://rdata2graph.sap.com/hilti_erp/property/t023.anlkl',\n",
       " 'http://rdata2graph.sap.com/hilti_erp/property/v137.mbrsh',\n",
       " 'http://rdata2graph.sap.com/hilti_web/property/products.name',\n",
       " 'http://rdata2graph.sap.com/hilti_erp/property/t006.dimid',\n",
       " 'http://rdata2graph.sap.com/hilti_erp/property/t023.mandt',\n",
       " 'http://rdata2graph.sap.com/hilti_erp/property/t006.exp10',\n",
       " 'http://rdata2graph.sap.com/hilti_erp/property/t023.price_group',\n",
       " 'http://rdata2graph.sap.com/hilti_erp/property/v137.mandt']"
      ]
     },
     "execution_count": 40,
     "metadata": {},
     "output_type": "execute_result"
    }
   ],
   "source": [
    "properties = [x for x in set(tmp.loc[tmp.category == 'http://www.w3.org/2000/01/rdf-schema#property'].label) if 'mara_fert.' not in x]\n",
    "properties"
   ]
  },
  {
   "cell_type": "code",
   "execution_count": null,
   "metadata": {},
   "outputs": [],
   "source": []
  }
 ],
 "metadata": {
  "kernelspec": {
   "display_name": "Python 3",
   "language": "python",
   "name": "python3"
  },
  "language_info": {
   "codemirror_mode": {
    "name": "ipython",
    "version": 3
   },
   "file_extension": ".py",
   "mimetype": "text/x-python",
   "name": "python",
   "nbconvert_exporter": "python",
   "pygments_lexer": "ipython3",
   "version": "3.6.8"
  }
 },
 "nbformat": 4,
 "nbformat_minor": 2
}
