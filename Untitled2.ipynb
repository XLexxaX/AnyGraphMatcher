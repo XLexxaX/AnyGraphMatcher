{
 "cells": [
  {
   "cell_type": "code",
   "execution_count": 3,
   "metadata": {},
   "outputs": [],
   "source": [
    "sents = list()\n",
    "with open('C:\\\\Users\\\\D072202\\\\DeepAnyMatch\\\\DeepAnyMatch\\\\result_data\\\\OAEI W2V_1_2019_05_10_18_58_18_268738\\\\w2v_training_material.csv', encoding='UTF-8') as f:\n",
    "    sents = f.read().split(\"], [\")\n",
    "\n"
   ]
  },
  {
   "cell_type": "code",
   "execution_count": 1,
   "metadata": {},
   "outputs": [
    {
     "data": {
      "text/plain": [
       "'[[1, 2, 3], [2.3, 4]]'"
      ]
     },
     "execution_count": 1,
     "metadata": {},
     "output_type": "execute_result"
    }
   ],
   "source": [
    "a = [[1,2,3],[2.3,4]]\n",
    "str(a)"
   ]
  },
  {
   "cell_type": "code",
   "execution_count": 6,
   "metadata": {},
   "outputs": [],
   "source": [
    "sents = [x.split(\"', '\") for x in sents]"
   ]
  },
  {
   "cell_type": "code",
   "execution_count": 8,
   "metadata": {},
   "outputs": [
    {
     "data": {
      "text/plain": [
       "[\"'http://rdata2graph.sap.com/darkscape/#8bdc1045-1ce5-4583-95cd-29af152768f0\",\n",
       " 'http://rdata2graph.sap.com/darkscape/image.thumbnail',\n",
       " \"http://rdata2graph.sap.com/darkscape/#d3dcb21f-7a41-48bd-be1e-7f9b5c4f11fb'\"]"
      ]
     },
     "execution_count": 8,
     "metadata": {},
     "output_type": "execute_result"
    }
   ],
   "source": [
    "sents[1]"
   ]
  },
  {
   "cell_type": "code",
   "execution_count": 10,
   "metadata": {},
   "outputs": [
    {
     "data": {
      "text/plain": [
       "[[\"'http://rdata2graph.sap.com/darkscape/#ebc2908c-4cfe-4c50-9ac3-bd57deecad1f\",\n",
       "  \"87^^http://www.w3.org/2001/xmlschema#integer76^^http://www.w3.org/2001/xmlschema#integer83^^http://www.w3.org/2001/xmlschema#integer'\"],\n",
       " [\"'http://rdata2graph.sap.com/darkscape/#ebc2908c-4cfe-4c50-9ac3-bd57deecad1f\",\n",
       "  \"no'\"],\n",
       " [\"'http://rdata2graph.sap.com/darkscape/#ebc2908c-4cfe-4c50-9ac3-bd57deecad1f\",\n",
       "  \"black plateskirtblack helmblack platebodyblack shieldblack heraldic armour set 3'\"],\n",
       " [\"'http://rdata2graph.sap.com/darkscape/#ebc2908c-4cfe-4c50-9ac3-bd57deecad1f\",\n",
       "  \"no'\"],\n",
       " [\"'http://rdata2graph.sap.com/darkscape/#ebc2908c-4cfe-4c50-9ac3-bd57deecad1f\",\n",
       "  \"black plateskirtblack helmblack shieldblack platebody'\"],\n",
       " [\"'http://rdata2graph.sap.com/darkscape/#ebc2908c-4cfe-4c50-9ac3-bd57deecad1f\",\n",
       "  \"black heraldic'\"],\n",
       " [\"'http://rdata2graph.sap.com/darkscape/#ebc2908c-4cfe-4c50-9ac3-bd57deecad1f\",\n",
       "  \"no'\"],\n",
       " [\"'http://rdata2graph.sap.com/darkscape/#ebc2908c-4cfe-4c50-9ac3-bd57deecad1f\",\n",
       "  \"elite treasure trails and new rewards'\"],\n",
       " [\"'http://rdata2graph.sap.com/darkscape/#ebc2908c-4cfe-4c50-9ac3-bd57deecad1f\",\n",
       "  \"drop'\"],\n",
       " [\"'http://rdata2graph.sap.com/darkscape/#ebc2908c-4cfe-4c50-9ac3-bd57deecad1f\",\n",
       "  \"melee'\"],\n",
       " [\"'http://rdata2graph.sap.com/darkscape/#ebc2908c-4cfe-4c50-9ac3-bd57deecad1f\",\n",
       "  \"2.2^^http://www.w3.org/2001/xmlschema#double'\"],\n",
       " [\"'http://rdata2graph.sap.com/darkscape/#ebc2908c-4cfe-4c50-9ac3-bd57deecad1f\",\n",
       "  \"yes'\"],\n",
       " [\"'http://rdata2graph.sap.com/darkscape/#ebc2908c-4cfe-4c50-9ac3-bd57deecad1f\",\n",
       "  \"no'\"],\n",
       " [\"'http://rdata2graph.sap.com/darkscape/#ebc2908c-4cfe-4c50-9ac3-bd57deecad1f\",\n",
       "  \"no'\"],\n",
       " [\"'http://rdata2graph.sap.com/darkscape/#ebc2908c-4cfe-4c50-9ac3-bd57deecad1f\",\n",
       "  \"no'\"],\n",
       " [\"'http://rdata2graph.sap.com/darkscape/#ebc2908c-4cfe-4c50-9ac3-bd57deecad1f\",\n",
       "  \"grand exchange set containing a full helm, platebody, skirt and kiteshield.'\"],\n",
       " [\"'http://rdata2graph.sap.com/darkscape/#ebc2908c-4cfe-4c50-9ac3-bd57deecad1f\",\n",
       "  \"2010-08-04^^http://www.w3.org/2001/xmlschema#date'\"],\n",
       " [\"'http://rdata2graph.sap.com/darkscape/#ebc2908c-4cfe-4c50-9ac3-bd57deecad1f\",\n",
       "  \"black heraldic armour set 3 (sk)@en'\"],\n",
       " [\"'http://rdata2graph.sap.com/darkscape/#ebc2908c-4cfe-4c50-9ac3-bd57deecad1f\",\n",
       "  \"no'\"],\n",
       " [\"'http://rdata2graph.sap.com/darkscape/#ebc2908c-4cfe-4c50-9ac3-bd57deecad1f\",\n",
       "  \"no'\"],\n",
       " [\"'http://rdata2graph.sap.com/darkscape/#ebc2908c-4cfe-4c50-9ac3-bd57deecad1f\",\n",
       "  \"yes'\"],\n",
       " [\"'http://rdata2graph.sap.com/darkscape/#ebc2908c-4cfe-4c50-9ac3-bd57deecad1f\",\n",
       "  'http://rdata2graph.sap.com/darkscape/item.type',\n",
       "  \"http://rdata2graph.sap.com/darkscape/#a9d7d77a-54a0-454b-ad0f-fc42e885af2b'\"],\n",
       " [\"'http://rdata2graph.sap.com/darkscape/#ebc2908c-4cfe-4c50-9ac3-bd57deecad1f\",\n",
       "  'http://rdata2graph.sap.com/darkscape/item.depiction',\n",
       "  \"http://rdata2graph.sap.com/darkscape/#96388340-2135-42ff-a1e3-071f3517f46e'\"],\n",
       " [\"'http://rdata2graph.sap.com/darkscape/#ebc2908c-4cfe-4c50-9ac3-bd57deecad1f\",\n",
       "  'http://rdata2graph.sap.com/darkscape/item.thumbnail',\n",
       "  \"http://rdata2graph.sap.com/darkscape/#b6843b3a-696d-48dc-adb1-ce5d0bec9249'\"]]"
      ]
     },
     "execution_count": 10,
     "metadata": {},
     "output_type": "execute_result"
    }
   ],
   "source": [
    "[x for x in sents if \"http://rdata2graph.sap.com/darkscape/#ebc2908c-4cfe-4c50-9ac3-bd57deecad1f\" in x[0]]"
   ]
  },
  {
   "cell_type": "code",
   "execution_count": null,
   "metadata": {},
   "outputs": [],
   "source": []
  }
 ],
 "metadata": {
  "kernelspec": {
   "display_name": "Python 3",
   "language": "python",
   "name": "python3"
  },
  "language_info": {
   "codemirror_mode": {
    "name": "ipython",
    "version": 3
   },
   "file_extension": ".py",
   "mimetype": "text/x-python",
   "name": "python",
   "nbconvert_exporter": "python",
   "pygments_lexer": "ipython3",
   "version": "3.6.8"
  }
 },
 "nbformat": 4,
 "nbformat_minor": 2
}
