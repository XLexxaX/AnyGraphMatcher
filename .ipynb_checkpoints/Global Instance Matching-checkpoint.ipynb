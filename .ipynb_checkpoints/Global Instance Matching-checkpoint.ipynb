{
 "cells": [
  {
   "cell_type": "code",
   "execution_count": 1,
   "metadata": {},
   "outputs": [],
   "source": [
    "from gensim.models import Doc2Vec, Word2Vec\n",
    "import numpy as np\n",
    "import pandas as pd\n",
    "from sklearn.metrics.pairwise import cosine_similarity\n",
    "from sklearn.metrics.pairwise import euclidean_distances\n",
    "pd.set_option('display.max_colwidth', -1)"
   ]
  },
  {
   "cell_type": "code",
   "execution_count": null,
   "metadata": {},
   "outputs": [],
   "source": []
  },
  {
   "cell_type": "code",
   "execution_count": 27,
   "metadata": {
    "scrolled": true
   },
   "outputs": [],
   "source": [
    "dirpath = \"C:/Users/D072202/DeepAnyMatch/DeepAnyMatch/result_data/oaei/OAEI_emb_w2v_steps_walklength1_dim100_2019_06_18_02_33_01_130803/\"\n",
    "model = Word2Vec.load(dirpath+\"w2v.model\")\n",
    "documents_ids_A = dict()\n",
    "documents_ids_B = dict()\n",
    "training_corpus = dict()\n",
    "\n",
    "\n",
    "possible_matches = dict()\n",
    "#with open('C:/Users/D072202/DeepAnyMatch/DeepAnyMatch/data/sap_hilti_data/balanced_walks/possible_matches.csv') as f:\n",
    "with open('C:/Users/D072202/DeepAnyMatch/DeepAnyMatch/data/oaei_data/possible_matches.csv') as f:\n",
    "    for line in f:\n",
    "        line = line.replace(\"\\n\",\"\").split(\"\\t\")\n",
    "        if line[0] in possible_matches.keys():\n",
    "            possible_matches[line[0]].append(line[1])\n",
    "        else:\n",
    "            possible_matches[line[0]] = [line[1]]\n",
    "            \n",
    "        if line[1] in possible_matches.keys():\n",
    "            possible_matches[line[1]].append(line[0])\n",
    "        else:\n",
    "            possible_matches[line[1]] = [line[0]]"
   ]
  },
  {
   "cell_type": "code",
   "execution_count": 3,
   "metadata": {},
   "outputs": [],
   "source": [
    "tmp = pd.read_csv(dirpath+\"stratified_embeddings.csv\", sep=\",\")\n",
    "classes = set(tmp.category)\n",
    "classes1 = [x for x in classes if 'hilti_erp' in x]\n",
    "classes2 = [x for x in classes if 'hilti_web' in x]\n",
    "\n",
    "\n",
    "# In[40]:\n",
    "\n",
    "\n",
    "properties = [x for x in set(tmp.loc[tmp.category == 'http://www.w3.org/2000/01/rdf-schema#property'].label) if 'mara_fert.' not in x]\n",
    "properties1 = [x for x in properties if 'hilti_erp' in x]\n",
    "properties2 = [x for x in properties if 'hilti_web' in x]\n"
   ]
  },
  {
   "cell_type": "code",
   "execution_count": 28,
   "metadata": {},
   "outputs": [],
   "source": [
    "def get_possible_matches(nid):\n",
    "    return possible_matches[nid]\n"
   ]
  },
  {
   "cell_type": "code",
   "execution_count": null,
   "metadata": {},
   "outputs": [],
   "source": []
  },
  {
   "cell_type": "code",
   "execution_count": 47,
   "metadata": {},
   "outputs": [
    {
     "name": "stdout",
     "output_type": "stream",
     "text": [
      "Targeted http://dbkwik.webdatacommons.org/darkscape/resource/swamp_toad\n"
     ]
    }
   ],
   "source": [
    "#nodeid = \"http://dbkwik.webdatacommons.org/darkscape/class/dungeon\"\n",
    "nodeid = 'http://dbkwik.webdatacommons.org/darkscape/resource/swamp_toad'\n",
    "#nodeid = 'http://dbkwik.webdatacommons.org/darkscape/resource/berserker_ring'\n",
    "#nodeid = 'http://rdata2graph.sap.com/hilti_erp/torx_soc_re_scr_sn65_3x25_black#63ca4fe8-20ca-4115-9b52-05ca0bed27d3'\n",
    "#nodeid = 'http://rdata2graph.sap.com/hilti_erp/property/t006.press_unit'\n",
    "#nodeid = 'http://rdata2graph.sap.com/hilti_erp/case_te_40___typ_037#bb007577-546b-4906-9fc9-4830fba5c0a9'\n",
    "\n",
    "print(\"Targeted \"+ nodeid)"
   ]
  },
  {
   "cell_type": "code",
   "execution_count": 48,
   "metadata": {},
   "outputs": [],
   "source": [
    "x=list()\n",
    "with open(dirpath+\"w2v_training_material.csv\", mode=\"r\", encoding=\"UTF-8\") as f:\n",
    "    for line in f:\n",
    "        if nodeid in line:\n",
    "            x = x + line.split(\" \")\n",
    "x = list(set(x))"
   ]
  },
  {
   "cell_type": "code",
   "execution_count": 50,
   "metadata": {},
   "outputs": [
    {
     "name": "stdout",
     "output_type": "stream",
     "text": [
      "Closest in terms of output probability:\n"
     ]
    },
    {
     "ename": "AttributeError",
     "evalue": "'Word2Vec' object has no attribute 'docvecs'",
     "output_type": "error",
     "traceback": [
      "\u001b[1;31m---------------------------------------------------------------------------\u001b[0m",
      "\u001b[1;31mAttributeError\u001b[0m                            Traceback (most recent call last)",
      "\u001b[1;32m<ipython-input-50-5871ea8f68ed>\u001b[0m in \u001b[0;36m<module>\u001b[1;34m\u001b[0m\n\u001b[0;32m      1\u001b[0m \u001b[0mprint\u001b[0m\u001b[1;33m(\u001b[0m\u001b[1;34m'Closest in terms of output probability:'\u001b[0m\u001b[1;33m)\u001b[0m\u001b[1;33m\u001b[0m\u001b[1;33m\u001b[0m\u001b[0m\n\u001b[1;32m----> 2\u001b[1;33m \u001b[1;32mfor\u001b[0m \u001b[0mval\u001b[0m \u001b[1;32min\u001b[0m \u001b[0mmodel\u001b[0m\u001b[1;33m.\u001b[0m\u001b[0mdocvecs\u001b[0m\u001b[1;33m.\u001b[0m\u001b[0mmost_similar\u001b[0m\u001b[1;33m(\u001b[0m\u001b[0mi\u001b[0m\u001b[1;33m)\u001b[0m\u001b[1;33m:\u001b[0m\u001b[1;33m\u001b[0m\u001b[1;33m\u001b[0m\u001b[0m\n\u001b[0m\u001b[0;32m      3\u001b[0m     \u001b[0mpm\u001b[0m \u001b[1;33m=\u001b[0m \u001b[0mget_possible_matches\u001b[0m\u001b[1;33m(\u001b[0m\u001b[0mnodeid\u001b[0m\u001b[1;33m)\u001b[0m\u001b[1;33m\u001b[0m\u001b[1;33m\u001b[0m\u001b[0m\n\u001b[0;32m      4\u001b[0m \u001b[1;32mfor\u001b[0m \u001b[0mtup\u001b[0m \u001b[1;32min\u001b[0m \u001b[0mmodel\u001b[0m\u001b[1;33m.\u001b[0m\u001b[0mpredict_output_word\u001b[0m\u001b[1;33m(\u001b[0m\u001b[0mlist\u001b[0m\u001b[1;33m(\u001b[0m\u001b[0mset\u001b[0m\u001b[1;33m(\u001b[0m\u001b[0mx\u001b[0m\u001b[1;33m)\u001b[0m\u001b[1;33m)\u001b[0m\u001b[1;33m,\u001b[0m \u001b[0mtopn\u001b[0m\u001b[1;33m=\u001b[0m\u001b[1;36m99999999\u001b[0m\u001b[1;33m)\u001b[0m\u001b[1;33m:\u001b[0m\u001b[1;33m\u001b[0m\u001b[1;33m\u001b[0m\u001b[0m\n\u001b[0;32m      5\u001b[0m     \u001b[1;32mif\u001b[0m \u001b[0mtup\u001b[0m\u001b[1;33m[\u001b[0m\u001b[1;36m0\u001b[0m\u001b[1;33m]\u001b[0m \u001b[1;32min\u001b[0m \u001b[0mpm\u001b[0m\u001b[1;33m:\u001b[0m\u001b[1;33m\u001b[0m\u001b[1;33m\u001b[0m\u001b[0m\n",
      "\u001b[1;31mAttributeError\u001b[0m: 'Word2Vec' object has no attribute 'docvecs'"
     ]
    }
   ],
   "source": [
    "print('Closest in terms of output probability:')\n",
    "for val in model.docvecs.most_similar(i):\n",
    "    pm = get_possible_matches(nodeid)\n",
    "for tup in model.predict_output_word(list(set(x)), topn=99999999):\n",
    "    if tup[0] in pm:\n",
    "        print(tup)\n",
    "        break\n"
   ]
  },
  {
   "cell_type": "code",
   "execution_count": 46,
   "metadata": {},
   "outputs": [
    {
     "name": "stdout",
     "output_type": "stream",
     "text": [
      "Closest in general:\n",
      "('http://dbkwik.webdatacommons.org/oldschoolrunescape/resource/berserker_ring', 3.194845e-14)\n"
     ]
    }
   ],
   "source": [
    "print('Closest in general:')\n",
    "for val in model.docvecs.most_similar(i):\n",
    "    try:\n",
    "        print(documents_ids_A[int(val[0])])\n",
    "    except:\n",
    "        try:\n",
    "            print(documents_ids_B[int(val[0])])\n",
    "        except:\n",
    "            print(str(val[0]) + \" not found\")"
   ]
  },
  {
   "cell_type": "code",
   "execution_count": 41,
   "metadata": {},
   "outputs": [
    {
     "name": "stdout",
     "output_type": "stream",
     "text": [
      "('http://dbkwik.webdatacommons.org/oldschoolrunescape/resource/berserker_ring', 1.3409034e-13)\n"
     ]
    }
   ],
   "source": [
    "pm = get_possible_matches(nodeid)\n",
    "for tup in model.predict_output_word(list(set(x)), topn=99999999):\n",
    "    if tup[0] in pm:\n",
    "        print(tup)\n",
    "        break\n"
   ]
  },
  {
   "cell_type": "code",
   "execution_count": 38,
   "metadata": {},
   "outputs": [
    {
     "data": {
      "text/plain": [
       "{'0^^http://www.w3.org/2001/xmlschema#integer',\n",
       " '120',\n",
       " '12^^http://www.w3.org/2001/xmlschema#integer',\n",
       " '156^^http://www.w3.org/2001/xmlschema#integer',\n",
       " '17',\n",
       " '18',\n",
       " '1^^http://www.w3.org/2001/xmlschema#integer',\n",
       " '2005-11-07^^http://www.w3.org/2001/xmlschema#date',\n",
       " '205900',\n",
       " '300',\n",
       " '35^^http://www.w3.org/2001/xmlschema#integer',\n",
       " '4000^^http://www.w3.org/2001/xmlschema#integer',\n",
       " '5^^http://www.w3.org/2001/xmlschema#integer',\n",
       " '6000^^http://www.w3.org/2001/xmlschema#integer',\n",
       " 'a',\n",
       " 'activ',\n",
       " 'adventur',\n",
       " 'advis',\n",
       " 'after',\n",
       " 'all',\n",
       " 'among',\n",
       " 'and',\n",
       " 'armi',\n",
       " 'armour',\n",
       " 'as',\n",
       " 'at',\n",
       " 'bank',\n",
       " 'be',\n",
       " 'berserk',\n",
       " 'bonus',\n",
       " 'bring',\n",
       " 'can',\n",
       " 'coinshar',\n",
       " 'combin',\n",
       " 'creat',\n",
       " 'credit',\n",
       " 'dagannoth',\n",
       " 'darker',\n",
       " 'deadlier',\n",
       " 'deeper',\n",
       " 'directli',\n",
       " 'drop',\n",
       " 'enchant',\n",
       " 'enchantmentsen',\n",
       " 'evenli',\n",
       " 'for',\n",
       " 'furi',\n",
       " 'gemw',\n",
       " 'gener',\n",
       " 'http://dbkwik.webdatacommons.org/darkscape/class/item',\n",
       " 'http://dbkwik.webdatacommons.org/darkscape/property/armour',\n",
       " 'http://dbkwik.webdatacommons.org/darkscape/property/class',\n",
       " 'http://dbkwik.webdatacommons.org/darkscape/property/combat',\n",
       " 'http://dbkwik.webdatacommons.org/darkscape/property/destroy',\n",
       " 'http://dbkwik.webdatacommons.org/darkscape/property/equipable',\n",
       " 'http://dbkwik.webdatacommons.org/darkscape/property/examine',\n",
       " 'http://dbkwik.webdatacommons.org/darkscape/property/exchange',\n",
       " 'http://dbkwik.webdatacommons.org/darkscape/property/high',\n",
       " 'http://dbkwik.webdatacommons.org/darkscape/property/lendable',\n",
       " 'http://dbkwik.webdatacommons.org/darkscape/property/life',\n",
       " 'http://dbkwik.webdatacommons.org/darkscape/property/low',\n",
       " 'http://dbkwik.webdatacommons.org/darkscape/property/magic',\n",
       " 'http://dbkwik.webdatacommons.org/darkscape/property/mainaccuracy',\n",
       " 'http://dbkwik.webdatacommons.org/darkscape/property/maindamage',\n",
       " 'http://dbkwik.webdatacommons.org/darkscape/property/members',\n",
       " 'http://dbkwik.webdatacommons.org/darkscape/property/monster',\n",
       " 'http://dbkwik.webdatacommons.org/darkscape/property/name',\n",
       " 'http://dbkwik.webdatacommons.org/darkscape/property/offaccuracy',\n",
       " 'http://dbkwik.webdatacommons.org/darkscape/property/offdamage',\n",
       " 'http://dbkwik.webdatacommons.org/darkscape/property/prayer',\n",
       " 'http://dbkwik.webdatacommons.org/darkscape/property/quantity',\n",
       " 'http://dbkwik.webdatacommons.org/darkscape/property/quest',\n",
       " 'http://dbkwik.webdatacommons.org/darkscape/property/ranged',\n",
       " 'http://dbkwik.webdatacommons.org/darkscape/property/rarity',\n",
       " 'http://dbkwik.webdatacommons.org/darkscape/property/release',\n",
       " 'http://dbkwik.webdatacommons.org/darkscape/property/requirements',\n",
       " 'http://dbkwik.webdatacommons.org/darkscape/property/ring',\n",
       " 'http://dbkwik.webdatacommons.org/darkscape/property/slot',\n",
       " 'http://dbkwik.webdatacommons.org/darkscape/property/stackable',\n",
       " 'http://dbkwik.webdatacommons.org/darkscape/property/store',\n",
       " 'http://dbkwik.webdatacommons.org/darkscape/property/strength',\n",
       " 'http://dbkwik.webdatacommons.org/darkscape/property/tier',\n",
       " 'http://dbkwik.webdatacommons.org/darkscape/property/tradeable',\n",
       " 'http://dbkwik.webdatacommons.org/darkscape/property/update',\n",
       " 'http://dbkwik.webdatacommons.org/darkscape/property/weight',\n",
       " 'http://dbkwik.webdatacommons.org/darkscape/resource/berserker_ring',\n",
       " \"http://dbkwik.webdatacommons.org/darkscape/resource/category:adventurer's_log_items\",\n",
       " 'http://dbkwik.webdatacommons.org/darkscape/resource/tzhaar_fight_cave/strategies',\n",
       " 'http://dbkwik.webdatacommons.org/ontology/abstract',\n",
       " 'http://purl.org/dc/terms/subject',\n",
       " 'http://www.w3.org/1999/02/22-rdf-syntax-ns#type',\n",
       " 'http://www.w3.org/2000/01/rdf-schema#comment',\n",
       " 'http://www.w3.org/2000/01/rdf-schema#label',\n",
       " 'http://www.w3.org/2004/02/skos/core#preflabel',\n",
       " 'i',\n",
       " 'imbu',\n",
       " 'in',\n",
       " 'increas',\n",
       " 'into',\n",
       " 'is',\n",
       " 'island',\n",
       " 'it',\n",
       " 'item',\n",
       " 'itemen',\n",
       " 'itemsen',\n",
       " 'log',\n",
       " 'magic',\n",
       " 'mobilis',\n",
       " 'more',\n",
       " 'no',\n",
       " 'none',\n",
       " 'not',\n",
       " 'of',\n",
       " 'or',\n",
       " 'other',\n",
       " 'out',\n",
       " 'player',\n",
       " 'point',\n",
       " 'rang',\n",
       " 'rank',\n",
       " 'rare',\n",
       " 'rate',\n",
       " 'receiv',\n",
       " 'refund',\n",
       " 'reput',\n",
       " 'reward',\n",
       " 'rex',\n",
       " 'ring',\n",
       " 'ringen',\n",
       " 'sell',\n",
       " 'sent',\n",
       " 'shard',\n",
       " 'split',\n",
       " 'strength',\n",
       " 'the',\n",
       " 'their',\n",
       " 'thi',\n",
       " 'to',\n",
       " 'unlik',\n",
       " 'wast',\n",
       " 'waterbirth',\n",
       " 'wearer',\n",
       " 'when',\n",
       " 'will',\n",
       " 'with',\n",
       " 'ye'}"
      ]
     },
     "execution_count": 38,
     "metadata": {},
     "output_type": "execute_result"
    }
   ],
   "source": [
    "x = [\"http://dbkwik.webdatacommons.org/darkscape/resource/tzhaar_fight_cave/strategies\", \"http://dbkwik.webdatacommons.org/darkscape/property/ring\", \"http://dbkwik.webdatacommons.org/darkscape/resource/berserker_ring\", \"http://dbkwik.webdatacommons.org/ontology/abstract\", \"thi\", \"ring\", \"can\", \"be\", \"imbu\", \"at\", \"mobilis\", \"armi\", \"with\", \"a\", \"rank\", \"of\", \"300\", \"or\", \"more\", \"for\", \"205900\", \"reward\", \"credit\", \"into\", \"a\", \"berserk\", \"ring\", \"i\", \"thi\", \"increas\", \"the\", \"strength\", \"rang\", \"and\", \"magic\", \"bonus\", \"to\", \"17\", \"and\", \"armour\", \"rate\", \"to\", \"18\", \"sell\", \"the\", \"ring\", \"after\", \"imbu\", \"it\", \"is\", \"gener\", \"not\", \"advis\", \"as\", \"it\", \"will\", \"wast\", \"205900\", \"reward\", \"credit\", \"unlik\", \"other\", \"item\", \"at\", \"mobilis\", \"armi\", \"point\", \"will\", \"not\", \"be\", \"refund\", \"for\", \"ring\", \"enchant\", \"when\", \"receiv\", \"with\", \"coinshar\", \"activ\", \"the\", \"berserk\", \"ring\", \"will\", \"be\", \"drop\", \"as\", \"120\", \"berserk\", \"ring\", \"shard\", \"split\", \"evenli\", \"among\", \"the\", \"player\", \"and\", \"sent\", \"directli\", \"to\", \"their\", \"bank\", \"120\", \"shard\", \"can\", \"be\", \"combin\", \"to\", \"creat\", \"thi\", \"itemen\", \"http://dbkwik.webdatacommons.org/darkscape/resource/tzhaar_fight_cave/strategies\", \"http://dbkwik.webdatacommons.org/darkscape/property/ring\", \"http://dbkwik.webdatacommons.org/darkscape/resource/berserker_ring\", \"http://dbkwik.webdatacommons.org/darkscape/property/ranged\", \"12^^http://www.w3.org/2001/xmlschema#integer\", \"http://dbkwik.webdatacommons.org/darkscape/resource/tzhaar_fight_cave/strategies\", \"http://dbkwik.webdatacommons.org/darkscape/property/ring\", \"http://dbkwik.webdatacommons.org/darkscape/resource/berserker_ring\", \"http://dbkwik.webdatacommons.org/darkscape/property/magic\", \"12^^http://www.w3.org/2001/xmlschema#integer\", \"http://dbkwik.webdatacommons.org/darkscape/resource/tzhaar_fight_cave/strategies\", \"http://dbkwik.webdatacommons.org/darkscape/property/ring\", \"http://dbkwik.webdatacommons.org/darkscape/resource/berserker_ring\", \"http://dbkwik.webdatacommons.org/darkscape/property/stackable\", \"no\", \"http://dbkwik.webdatacommons.org/darkscape/resource/tzhaar_fight_cave/strategies\", \"http://dbkwik.webdatacommons.org/darkscape/property/ring\", \"http://dbkwik.webdatacommons.org/darkscape/resource/berserker_ring\", \"http://dbkwik.webdatacommons.org/darkscape/property/equipable\", \"ye\", \"http://dbkwik.webdatacommons.org/darkscape/resource/tzhaar_fight_cave/strategies\", \"http://dbkwik.webdatacommons.org/darkscape/property/ring\", \"http://dbkwik.webdatacommons.org/darkscape/resource/berserker_ring\", \"http://dbkwik.webdatacommons.org/darkscape/property/prayer\", \"0^^http://www.w3.org/2001/xmlschema#integer\", \"http://dbkwik.webdatacommons.org/darkscape/resource/tzhaar_fight_cave/strategies\", \"http://dbkwik.webdatacommons.org/darkscape/property/ring\", \"http://dbkwik.webdatacommons.org/darkscape/resource/berserker_ring\", \"http://dbkwik.webdatacommons.org/darkscape/property/armour\", \"5^^http://www.w3.org/2001/xmlschema#integer\", \"http://dbkwik.webdatacommons.org/darkscape/resource/tzhaar_fight_cave/strategies\", \"http://dbkwik.webdatacommons.org/darkscape/property/ring\", \"http://dbkwik.webdatacommons.org/darkscape/resource/berserker_ring\", \"http://dbkwik.webdatacommons.org/darkscape/property/rarity\", \"rare\", \"http://dbkwik.webdatacommons.org/darkscape/resource/tzhaar_fight_cave/strategies\", \"http://dbkwik.webdatacommons.org/darkscape/property/ring\", \"http://dbkwik.webdatacommons.org/darkscape/resource/berserker_ring\", \"http://dbkwik.webdatacommons.org/darkscape/property/strength\", \"12^^http://www.w3.org/2001/xmlschema#integer\", \"http://dbkwik.webdatacommons.org/darkscape/resource/tzhaar_fight_cave/strategies\", \"http://dbkwik.webdatacommons.org/darkscape/property/ring\", \"http://dbkwik.webdatacommons.org/darkscape/resource/berserker_ring\", \"http://dbkwik.webdatacommons.org/darkscape/property/weight\", \"0^^http://www.w3.org/2001/xmlschema#integer\", \"http://dbkwik.webdatacommons.org/darkscape/resource/tzhaar_fight_cave/strategies\", \"http://dbkwik.webdatacommons.org/darkscape/property/ring\", \"http://dbkwik.webdatacommons.org/darkscape/resource/berserker_ring\", \"http://dbkwik.webdatacommons.org/darkscape/property/maindamage\", \"0^^http://www.w3.org/2001/xmlschema#integer\", \"http://dbkwik.webdatacommons.org/darkscape/resource/tzhaar_fight_cave/strategies\", \"http://dbkwik.webdatacommons.org/darkscape/property/ring\", \"http://dbkwik.webdatacommons.org/darkscape/resource/berserker_ring\", \"http://dbkwik.webdatacommons.org/darkscape/property/release\", \"2005-11-07^^http://www.w3.org/2001/xmlschema#date\", \"http://dbkwik.webdatacommons.org/darkscape/resource/tzhaar_fight_cave/strategies\", \"http://dbkwik.webdatacommons.org/darkscape/property/ring\", \"http://dbkwik.webdatacommons.org/darkscape/resource/berserker_ring\", \"http://dbkwik.webdatacommons.org/darkscape/property/offdamage\", \"0^^http://www.w3.org/2001/xmlschema#integer\", \"http://dbkwik.webdatacommons.org/darkscape/resource/tzhaar_fight_cave/strategies\", \"http://dbkwik.webdatacommons.org/darkscape/property/ring\", \"http://dbkwik.webdatacommons.org/darkscape/resource/berserker_ring\", \"http://www.w3.org/2000/01/rdf-schema#label\", \"berserk\", \"ringen\", \"http://dbkwik.webdatacommons.org/darkscape/resource/tzhaar_fight_cave/strategies\", \"http://dbkwik.webdatacommons.org/darkscape/property/ring\", \"http://dbkwik.webdatacommons.org/darkscape/resource/berserker_ring\", \"http://dbkwik.webdatacommons.org/darkscape/property/examine\", \"a\", \"ring\", \"reput\", \"to\", \"bring\", \"out\", \"a\", \"berserk\", \"furi\", \"in\", \"it\", \"wearer\", \"http://dbkwik.webdatacommons.org/darkscape/resource/tzhaar_fight_cave/strategies\", \"http://dbkwik.webdatacommons.org/darkscape/property/ring\", \"http://dbkwik.webdatacommons.org/darkscape/resource/berserker_ring\", \"http://dbkwik.webdatacommons.org/darkscape/property/exchange\", \"gemw\", \"http://dbkwik.webdatacommons.org/darkscape/resource/tzhaar_fight_cave/strategies\", \"http://dbkwik.webdatacommons.org/darkscape/property/ring\", \"http://dbkwik.webdatacommons.org/darkscape/resource/berserker_ring\", \"http://dbkwik.webdatacommons.org/darkscape/property/update\", \"waterbirth\", \"island\", \"deeper\", \"darker\", \"deadlier\", \"http://dbkwik.webdatacommons.org/darkscape/resource/tzhaar_fight_cave/strategies\", \"http://dbkwik.webdatacommons.org/darkscape/property/ring\", \"http://dbkwik.webdatacommons.org/darkscape/resource/berserker_ring\", \"http://dbkwik.webdatacommons.org/darkscape/property/life\", \"0^^http://www.w3.org/2001/xmlschema#integer\", \"http://dbkwik.webdatacommons.org/darkscape/resource/tzhaar_fight_cave/strategies\", \"http://dbkwik.webdatacommons.org/darkscape/property/ring\", \"http://dbkwik.webdatacommons.org/darkscape/resource/berserker_ring\", \"http://dbkwik.webdatacommons.org/darkscape/property/lendable\", \"ye\", \"http://dbkwik.webdatacommons.org/darkscape/resource/tzhaar_fight_cave/strategies\", \"http://dbkwik.webdatacommons.org/darkscape/property/ring\", \"http://dbkwik.webdatacommons.org/darkscape/resource/berserker_ring\", \"http://dbkwik.webdatacommons.org/darkscape/property/combat\", \"156^^http://www.w3.org/2001/xmlschema#integer\", \"http://dbkwik.webdatacommons.org/darkscape/resource/tzhaar_fight_cave/strategies\", \"http://dbkwik.webdatacommons.org/darkscape/property/ring\", \"http://dbkwik.webdatacommons.org/darkscape/resource/berserker_ring\", \"http://dbkwik.webdatacommons.org/darkscape/property/name\", \"berserk\", \"ring\", \"http://dbkwik.webdatacommons.org/darkscape/resource/tzhaar_fight_cave/strategies\", \"http://dbkwik.webdatacommons.org/darkscape/property/ring\", \"http://dbkwik.webdatacommons.org/darkscape/resource/berserker_ring\", \"http://dbkwik.webdatacommons.org/darkscape/property/monster\", \"dagannoth\", \"rex\", \"http://dbkwik.webdatacommons.org/darkscape/resource/tzhaar_fight_cave/strategies\", \"http://dbkwik.webdatacommons.org/darkscape/property/ring\", \"http://dbkwik.webdatacommons.org/darkscape/resource/berserker_ring\", \"http://dbkwik.webdatacommons.org/darkscape/property/quantity\", \"1^^http://www.w3.org/2001/xmlschema#integer\", \"http://dbkwik.webdatacommons.org/darkscape/resource/tzhaar_fight_cave/strategies\", \"http://dbkwik.webdatacommons.org/darkscape/property/ring\", \"http://dbkwik.webdatacommons.org/darkscape/resource/berserker_ring\", \"http://dbkwik.webdatacommons.org/darkscape/property/quest\", \"no\", \"http://dbkwik.webdatacommons.org/darkscape/resource/tzhaar_fight_cave/strategies\", \"http://dbkwik.webdatacommons.org/darkscape/property/ring\", \"http://dbkwik.webdatacommons.org/darkscape/resource/berserker_ring\", \"http://dbkwik.webdatacommons.org/darkscape/property/low\", \"4000^^http://www.w3.org/2001/xmlschema#integer\", \"http://dbkwik.webdatacommons.org/darkscape/resource/tzhaar_fight_cave/strategies\", \"http://dbkwik.webdatacommons.org/darkscape/property/ring\", \"http://dbkwik.webdatacommons.org/darkscape/resource/berserker_ring\", \"http://dbkwik.webdatacommons.org/darkscape/property/members\", \"ye\", \"http://dbkwik.webdatacommons.org/darkscape/resource/tzhaar_fight_cave/strategies\", \"http://dbkwik.webdatacommons.org/darkscape/property/ring\", \"http://dbkwik.webdatacommons.org/darkscape/resource/berserker_ring\", \"http://dbkwik.webdatacommons.org/darkscape/property/high\", \"6000^^http://www.w3.org/2001/xmlschema#integer\", \"http://dbkwik.webdatacommons.org/darkscape/resource/tzhaar_fight_cave/strategies\", \"http://dbkwik.webdatacommons.org/darkscape/property/ring\", \"http://dbkwik.webdatacommons.org/darkscape/resource/berserker_ring\", \"http://dbkwik.webdatacommons.org/darkscape/property/class\", \"all\", \"http://dbkwik.webdatacommons.org/darkscape/resource/tzhaar_fight_cave/strategies\", \"http://dbkwik.webdatacommons.org/darkscape/property/ring\", \"http://dbkwik.webdatacommons.org/darkscape/resource/berserker_ring\", \"http://dbkwik.webdatacommons.org/darkscape/property/tradeable\", \"ye\", \"http://dbkwik.webdatacommons.org/darkscape/resource/tzhaar_fight_cave/strategies\", \"http://dbkwik.webdatacommons.org/darkscape/property/ring\", \"http://dbkwik.webdatacommons.org/darkscape/resource/berserker_ring\", \"http://dbkwik.webdatacommons.org/darkscape/property/slot\", \"ring\", \"http://dbkwik.webdatacommons.org/darkscape/resource/tzhaar_fight_cave/strategies\", \"http://dbkwik.webdatacommons.org/darkscape/property/ring\", \"http://dbkwik.webdatacommons.org/darkscape/resource/berserker_ring\", \"http://dbkwik.webdatacommons.org/darkscape/property/mainaccuracy\", \"0^^http://www.w3.org/2001/xmlschema#integer\", \"http://dbkwik.webdatacommons.org/darkscape/resource/tzhaar_fight_cave/strategies\", \"http://dbkwik.webdatacommons.org/darkscape/property/ring\", \"http://dbkwik.webdatacommons.org/darkscape/resource/berserker_ring\", \"http://www.w3.org/2000/01/rdf-schema#comment\", \"thi\", \"ring\", \"can\", \"be\", \"imbu\", \"at\", \"mobilis\", \"armi\", \"with\", \"a\", \"rank\", \"of\", \"300\", \"or\", \"more\", \"for\", \"205900\", \"reward\", \"credit\", \"into\", \"a\", \"berserk\", \"ring\", \"i\", \"thi\", \"increas\", \"the\", \"strength\", \"rang\", \"and\", \"magic\", \"bonus\", \"to\", \"17\", \"and\", \"armour\", \"rate\", \"to\", \"18\", \"sell\", \"the\", \"ring\", \"after\", \"imbu\", \"it\", \"is\", \"gener\", \"not\", \"advis\", \"as\", \"it\", \"will\", \"wast\", \"205900\", \"reward\", \"credit\", \"unlik\", \"other\", \"item\", \"at\", \"mobilis\", \"armi\", \"point\", \"will\", \"not\", \"be\", \"refund\", \"for\", \"ring\", \"enchantmentsen\", \"http://dbkwik.webdatacommons.org/darkscape/resource/tzhaar_fight_cave/strategies\", \"http://dbkwik.webdatacommons.org/darkscape/property/ring\", \"http://dbkwik.webdatacommons.org/darkscape/resource/berserker_ring\", \"http://dbkwik.webdatacommons.org/darkscape/property/requirements\", \"none\", \"http://dbkwik.webdatacommons.org/darkscape/resource/tzhaar_fight_cave/strategies\", \"http://dbkwik.webdatacommons.org/darkscape/property/ring\", \"http://dbkwik.webdatacommons.org/darkscape/resource/berserker_ring\", \"http://dbkwik.webdatacommons.org/darkscape/property/store\", \"no\", \"http://dbkwik.webdatacommons.org/darkscape/resource/tzhaar_fight_cave/strategies\", \"http://dbkwik.webdatacommons.org/darkscape/property/ring\", \"http://dbkwik.webdatacommons.org/darkscape/resource/berserker_ring\", \"http://dbkwik.webdatacommons.org/darkscape/property/destroy\", \"drop\", \"http://dbkwik.webdatacommons.org/darkscape/resource/tzhaar_fight_cave/strategies\", \"http://dbkwik.webdatacommons.org/darkscape/property/ring\", \"http://dbkwik.webdatacommons.org/darkscape/resource/berserker_ring\", \"http://dbkwik.webdatacommons.org/darkscape/property/tier\", \"35^^http://www.w3.org/2001/xmlschema#integer\", \"http://dbkwik.webdatacommons.org/darkscape/resource/tzhaar_fight_cave/strategies\", \"http://dbkwik.webdatacommons.org/darkscape/property/ring\", \"http://dbkwik.webdatacommons.org/darkscape/resource/berserker_ring\", \"http://dbkwik.webdatacommons.org/darkscape/property/offaccuracy\", \"0^^http://www.w3.org/2001/xmlschema#integer\", \"http://dbkwik.webdatacommons.org/darkscape/resource/berserker_ring\", \"http://dbkwik.webdatacommons.org/ontology/abstract\", \"thi\", \"ring\", \"can\", \"be\", \"imbu\", \"at\", \"mobilis\", \"armi\", \"with\", \"a\", \"rank\", \"of\", \"300\", \"or\", \"more\", \"for\", \"205900\", \"reward\", \"credit\", \"into\", \"a\", \"berserk\", \"ring\", \"i\", \"thi\", \"increas\", \"the\", \"strength\", \"rang\", \"and\", \"magic\", \"bonus\", \"to\", \"17\", \"and\", \"armour\", \"rate\", \"to\", \"18\", \"sell\", \"the\", \"ring\", \"after\", \"imbu\", \"it\", \"is\", \"gener\", \"not\", \"advis\", \"as\", \"it\", \"will\", \"wast\", \"205900\", \"reward\", \"credit\", \"unlik\", \"other\", \"item\", \"at\", \"mobilis\", \"armi\", \"point\", \"will\", \"not\", \"be\", \"refund\", \"for\", \"ring\", \"enchant\", \"when\", \"receiv\", \"with\", \"coinshar\", \"activ\", \"the\", \"berserk\", \"ring\", \"will\", \"be\", \"drop\", \"as\", \"120\", \"berserk\", \"ring\", \"shard\", \"split\", \"evenli\", \"among\", \"the\", \"player\", \"and\", \"sent\", \"directli\", \"to\", \"their\", \"bank\", \"120\", \"shard\", \"can\", \"be\", \"combin\", \"to\", \"creat\", \"thi\", \"itemen\", \"http://dbkwik.webdatacommons.org/darkscape/resource/berserker_ring\", \"http://dbkwik.webdatacommons.org/darkscape/property/ranged\", \"12^^http://www.w3.org/2001/xmlschema#integer\", \"http://dbkwik.webdatacommons.org/darkscape/resource/berserker_ring\", \"http://dbkwik.webdatacommons.org/darkscape/property/magic\", \"12^^http://www.w3.org/2001/xmlschema#integer\", \"http://dbkwik.webdatacommons.org/darkscape/resource/berserker_ring\", \"http://dbkwik.webdatacommons.org/darkscape/property/stackable\", \"no\", \"http://dbkwik.webdatacommons.org/darkscape/resource/berserker_ring\", \"http://dbkwik.webdatacommons.org/darkscape/property/equipable\", \"ye\", \"http://dbkwik.webdatacommons.org/darkscape/resource/berserker_ring\", \"http://dbkwik.webdatacommons.org/darkscape/property/prayer\", \"0^^http://www.w3.org/2001/xmlschema#integer\", \"http://dbkwik.webdatacommons.org/darkscape/resource/berserker_ring\", \"http://dbkwik.webdatacommons.org/darkscape/property/armour\", \"5^^http://www.w3.org/2001/xmlschema#integer\", \"http://dbkwik.webdatacommons.org/darkscape/resource/berserker_ring\", \"http://dbkwik.webdatacommons.org/darkscape/property/rarity\", \"rare\", \"http://dbkwik.webdatacommons.org/darkscape/resource/berserker_ring\", \"http://dbkwik.webdatacommons.org/darkscape/property/strength\", \"12^^http://www.w3.org/2001/xmlschema#integer\", \"http://dbkwik.webdatacommons.org/darkscape/resource/berserker_ring\", \"http://dbkwik.webdatacommons.org/darkscape/property/weight\", \"0^^http://www.w3.org/2001/xmlschema#integer\", \"http://dbkwik.webdatacommons.org/darkscape/resource/berserker_ring\", \"http://dbkwik.webdatacommons.org/darkscape/property/maindamage\", \"0^^http://www.w3.org/2001/xmlschema#integer\", \"http://dbkwik.webdatacommons.org/darkscape/resource/berserker_ring\", \"http://dbkwik.webdatacommons.org/darkscape/property/release\", \"2005-11-07^^http://www.w3.org/2001/xmlschema#date\", \"http://dbkwik.webdatacommons.org/darkscape/resource/berserker_ring\", \"http://dbkwik.webdatacommons.org/darkscape/property/offdamage\", \"0^^http://www.w3.org/2001/xmlschema#integer\", \"http://dbkwik.webdatacommons.org/darkscape/resource/berserker_ring\", \"http://www.w3.org/2000/01/rdf-schema#label\", \"berserk\", \"ringen\", \"http://dbkwik.webdatacommons.org/darkscape/resource/berserker_ring\", \"http://dbkwik.webdatacommons.org/darkscape/property/examine\", \"a\", \"ring\", \"reput\", \"to\", \"bring\", \"out\", \"a\", \"berserk\", \"furi\", \"in\", \"it\", \"wearer\", \"http://dbkwik.webdatacommons.org/darkscape/resource/berserker_ring\", \"http://dbkwik.webdatacommons.org/darkscape/property/exchange\", \"gemw\", \"http://dbkwik.webdatacommons.org/darkscape/resource/berserker_ring\", \"http://dbkwik.webdatacommons.org/darkscape/property/update\", \"waterbirth\", \"island\", \"deeper\", \"darker\", \"deadlier\", \"http://dbkwik.webdatacommons.org/darkscape/resource/berserker_ring\", \"http://dbkwik.webdatacommons.org/darkscape/property/life\", \"0^^http://www.w3.org/2001/xmlschema#integer\", \"http://dbkwik.webdatacommons.org/darkscape/resource/berserker_ring\", \"http://dbkwik.webdatacommons.org/darkscape/property/lendable\", \"ye\", \"http://dbkwik.webdatacommons.org/darkscape/resource/berserker_ring\", \"http://dbkwik.webdatacommons.org/darkscape/property/combat\", \"156^^http://www.w3.org/2001/xmlschema#integer\", \"http://dbkwik.webdatacommons.org/darkscape/resource/berserker_ring\", \"http://dbkwik.webdatacommons.org/darkscape/property/name\", \"berserk\", \"ring\", \"http://dbkwik.webdatacommons.org/darkscape/resource/berserker_ring\", \"http://dbkwik.webdatacommons.org/darkscape/property/monster\", \"dagannoth\", \"rex\", \"http://dbkwik.webdatacommons.org/darkscape/resource/berserker_ring\", \"http://dbkwik.webdatacommons.org/darkscape/property/quantity\", \"1^^http://www.w3.org/2001/xmlschema#integer\", \"http://dbkwik.webdatacommons.org/darkscape/resource/berserker_ring\", \"http://dbkwik.webdatacommons.org/darkscape/property/quest\", \"no\", \"http://dbkwik.webdatacommons.org/darkscape/resource/berserker_ring\", \"http://dbkwik.webdatacommons.org/darkscape/property/low\", \"4000^^http://www.w3.org/2001/xmlschema#integer\", \"http://dbkwik.webdatacommons.org/darkscape/resource/berserker_ring\", \"http://dbkwik.webdatacommons.org/darkscape/property/members\", \"ye\", \"http://dbkwik.webdatacommons.org/darkscape/resource/berserker_ring\", \"http://dbkwik.webdatacommons.org/darkscape/property/high\", \"6000^^http://www.w3.org/2001/xmlschema#integer\", \"http://dbkwik.webdatacommons.org/darkscape/resource/berserker_ring\", \"http://dbkwik.webdatacommons.org/darkscape/property/class\", \"all\", \"http://dbkwik.webdatacommons.org/darkscape/resource/berserker_ring\", \"http://dbkwik.webdatacommons.org/darkscape/property/tradeable\", \"ye\", \"http://dbkwik.webdatacommons.org/darkscape/resource/berserker_ring\", \"http://dbkwik.webdatacommons.org/darkscape/property/slot\", \"ring\", \"http://dbkwik.webdatacommons.org/darkscape/resource/berserker_ring\", \"http://dbkwik.webdatacommons.org/darkscape/property/mainaccuracy\", \"0^^http://www.w3.org/2001/xmlschema#integer\", \"http://dbkwik.webdatacommons.org/darkscape/resource/berserker_ring\", \"http://www.w3.org/2000/01/rdf-schema#comment\", \"thi\", \"ring\", \"can\", \"be\", \"imbu\", \"at\", \"mobilis\", \"armi\", \"with\", \"a\", \"rank\", \"of\", \"300\", \"or\", \"more\", \"for\", \"205900\", \"reward\", \"credit\", \"into\", \"a\", \"berserk\", \"ring\", \"i\", \"thi\", \"increas\", \"the\", \"strength\", \"rang\", \"and\", \"magic\", \"bonus\", \"to\", \"17\", \"and\", \"armour\", \"rate\", \"to\", \"18\", \"sell\", \"the\", \"ring\", \"after\", \"imbu\", \"it\", \"is\", \"gener\", \"not\", \"advis\", \"as\", \"it\", \"will\", \"wast\", \"205900\", \"reward\", \"credit\", \"unlik\", \"other\", \"item\", \"at\", \"mobilis\", \"armi\", \"point\", \"will\", \"not\", \"be\", \"refund\", \"for\", \"ring\", \"enchantmentsen\", \"http://dbkwik.webdatacommons.org/darkscape/resource/berserker_ring\", \"http://dbkwik.webdatacommons.org/darkscape/property/requirements\", \"none\", \"http://dbkwik.webdatacommons.org/darkscape/resource/berserker_ring\", \"http://dbkwik.webdatacommons.org/darkscape/property/store\", \"no\", \"http://dbkwik.webdatacommons.org/darkscape/resource/berserker_ring\", \"http://dbkwik.webdatacommons.org/darkscape/property/destroy\", \"drop\", \"http://dbkwik.webdatacommons.org/darkscape/resource/berserker_ring\", \"http://dbkwik.webdatacommons.org/darkscape/property/tier\", \"35^^http://www.w3.org/2001/xmlschema#integer\", \"http://dbkwik.webdatacommons.org/darkscape/resource/berserker_ring\", \"http://dbkwik.webdatacommons.org/darkscape/property/offaccuracy\", \"0^^http://www.w3.org/2001/xmlschema#integer\", \"http://dbkwik.webdatacommons.org/darkscape/resource/berserker_ring\", \"http://www.w3.org/1999/02/22-rdf-syntax-ns#type\", \"http://dbkwik.webdatacommons.org/darkscape/class/item\", \"http://www.w3.org/2000/01/rdf-schema#label\", \"itemen\", \"http://dbkwik.webdatacommons.org/darkscape/resource/berserker_ring\", \"http://purl.org/dc/terms/subject\", \"http://dbkwik.webdatacommons.org/darkscape/resource/category:adventurer's_log_items\", \"http://www.w3.org/2004/02/skos/core#preflabel\", \"adventur\", \"log\", \"itemsen\", \"http://dbkwik.webdatacommons.org/darkscape/resource/berserker_ring\", \"http://purl.org/dc/terms/subject\", \"http://dbkwik.webdatacommons.org/darkscape/resource/category:adventurer's_log_items\", \"http://www.w3.org/2000/01/rdf-schema#label\", \"adventur\", \"log\", \"itemsen\"]\n",
    "set(x)"
   ]
  },
  {
   "cell_type": "code",
   "execution_count": 79,
   "metadata": {
    "scrolled": true
   },
   "outputs": [
    {
     "name": "stdout",
     "output_type": "stream",
     "text": [
      "Closest in terms of cosine similarity:\n",
      "http://rdata2graph.sap.com/hilti_web/property/categories.description - 0.4203984\n",
      "http://rdata2graph.sap.com/hilti_web/property/categories.id - 0.39470083\n",
      "http://rdata2graph.sap.com/hilti_web/property/products.name - 0.3130224\n",
      "http://rdata2graph.sap.com/hilti_web/property/products.description - 0.29238838\n",
      "http://rdata2graph.sap.com/hilti_web/property/categories.name - 0.28182098\n",
      "http://rdata2graph.sap.com/hilti_web/property/products.pid - 0.24487217\n"
     ]
    }
   ],
   "source": [
    "print('Closest in terms of cosine similarity:')\n",
    "vecs = model.wv[np.array(get_possible_matches(nodeid))]\n",
    "x = cosine_similarity(np.array([model.wv[nodeid]]), vecs)\n",
    "x = np.concatenate((x, np.array([get_possible_matches(nodeid)])), axis=0)\n",
    "sorted_x = pd.DataFrame(x).T.sort_values(by=[0], ascending=False)\n",
    "sorted_x.loc[:,'score'] = 0\n",
    "ctr = 1\n",
    "for index, row in sorted_x.iterrows():\n",
    "    print(row[1] + \" - \" + str(row[0]))\n",
    "    sorted_x.loc[index, 'score'] = row['score'] + 1/ctr\n",
    "    ctr += 1"
   ]
  },
  {
   "cell_type": "code",
   "execution_count": 80,
   "metadata": {},
   "outputs": [
    {
     "name": "stdout",
     "output_type": "stream",
     "text": [
      "Closest in terms of Euclidean distance:\n",
      "http://rdata2graph.sap.com/hilti_web/property/categories.description - 3.7947602\n",
      "http://rdata2graph.sap.com/hilti_web/property/categories.id - 4.009787\n",
      "http://rdata2graph.sap.com/hilti_web/property/products.description - 4.7210054\n",
      "http://rdata2graph.sap.com/hilti_web/property/products.name - 5.1442666\n",
      "http://rdata2graph.sap.com/hilti_web/property/categories.name - 6.1803412\n",
      "http://rdata2graph.sap.com/hilti_web/property/products.pid - 6.4192004\n"
     ]
    }
   ],
   "source": [
    "print('Closest in terms of Euclidean distance:')\n",
    "sorted_x2 = sorted_x\n",
    "vecs = model.wv[np.array(get_possible_matches(nodeid))]\n",
    "x = euclidean_distances(np.array([model.wv[nodeid]]), vecs)\n",
    "x = np.concatenate((x, np.array([get_possible_matches(nodeid)])), axis=0)\n",
    "sorted_x = pd.DataFrame(x).T.sort_values(by=[0], ascending=True)\n",
    "sorted_x.loc[:,'score'] = 0\n",
    "ctr = 1\n",
    "for index, row in sorted_x.iterrows():\n",
    "    print(row[1] + \" - \" + str(row[0]))\n",
    "    sorted_x.loc[index, 'score'] = row['score'] + 1/ctr\n",
    "    ctr += 1"
   ]
  },
  {
   "cell_type": "code",
   "execution_count": 81,
   "metadata": {
    "scrolled": true
   },
   "outputs": [
    {
     "name": "stdout",
     "output_type": "stream",
     "text": [
      "Closest in sum:\n",
      "http://rdata2graph.sap.com/hilti_erp/property/t006.press_unit\thttp://rdata2graph.sap.com/hilti_web/property/categories.description\t2.0\t1.0\t1.0\n"
     ]
    }
   ],
   "source": [
    "print('Closest in sum:')\n",
    "x = sorted_x2.merge(sorted_x, left_on=[1], right_on=[1])\n",
    "x.loc[:,'total_score'] = x['score_x'] + x['score_y']\n",
    "sorted_x = x.sort_values(by=['total_score'], ascending=False)\n",
    "for index, row in sorted_x.loc[sorted_x.total_score == max(sorted_x.total_score.values),:].iterrows():\n",
    "    print(nodeid + \"\\t\" + row[1] + \"\\t\" + str(row['total_score']) + \"\\t\" + str(row['score_x']) + \"\\t\" + str(row['score_y']))\n",
    "#for index, row in sorted_x.iterrows():\n",
    "#    print(documents_ids_B[row[1]] + \" - \" + str(row[]))"
   ]
  },
  {
   "cell_type": "code",
   "execution_count": 82,
   "metadata": {},
   "outputs": [
    {
     "data": {
      "text/html": [
       "<div>\n",
       "<style scoped>\n",
       "    .dataframe tbody tr th:only-of-type {\n",
       "        vertical-align: middle;\n",
       "    }\n",
       "\n",
       "    .dataframe tbody tr th {\n",
       "        vertical-align: top;\n",
       "    }\n",
       "\n",
       "    .dataframe thead th {\n",
       "        text-align: right;\n",
       "    }\n",
       "</style>\n",
       "<table border=\"1\" class=\"dataframe\">\n",
       "  <thead>\n",
       "    <tr style=\"text-align: right;\">\n",
       "      <th></th>\n",
       "      <th>0_x</th>\n",
       "      <th>1</th>\n",
       "      <th>score_x</th>\n",
       "      <th>0_y</th>\n",
       "      <th>score_y</th>\n",
       "      <th>total_score</th>\n",
       "    </tr>\n",
       "  </thead>\n",
       "  <tbody>\n",
       "    <tr>\n",
       "      <th>0</th>\n",
       "      <td>0.4203984</td>\n",
       "      <td>http://rdata2graph.sap.com/hilti_web/property/categories.description</td>\n",
       "      <td>1.000000</td>\n",
       "      <td>3.7947602</td>\n",
       "      <td>1.000000</td>\n",
       "      <td>2.000000</td>\n",
       "    </tr>\n",
       "    <tr>\n",
       "      <th>1</th>\n",
       "      <td>0.39470083</td>\n",
       "      <td>http://rdata2graph.sap.com/hilti_web/property/categories.id</td>\n",
       "      <td>0.500000</td>\n",
       "      <td>4.009787</td>\n",
       "      <td>0.500000</td>\n",
       "      <td>1.000000</td>\n",
       "    </tr>\n",
       "    <tr>\n",
       "      <th>2</th>\n",
       "      <td>0.3130224</td>\n",
       "      <td>http://rdata2graph.sap.com/hilti_web/property/products.name</td>\n",
       "      <td>0.333333</td>\n",
       "      <td>5.1442666</td>\n",
       "      <td>0.250000</td>\n",
       "      <td>0.583333</td>\n",
       "    </tr>\n",
       "    <tr>\n",
       "      <th>3</th>\n",
       "      <td>0.29238838</td>\n",
       "      <td>http://rdata2graph.sap.com/hilti_web/property/products.description</td>\n",
       "      <td>0.250000</td>\n",
       "      <td>4.7210054</td>\n",
       "      <td>0.333333</td>\n",
       "      <td>0.583333</td>\n",
       "    </tr>\n",
       "    <tr>\n",
       "      <th>4</th>\n",
       "      <td>0.28182098</td>\n",
       "      <td>http://rdata2graph.sap.com/hilti_web/property/categories.name</td>\n",
       "      <td>0.200000</td>\n",
       "      <td>6.1803412</td>\n",
       "      <td>0.200000</td>\n",
       "      <td>0.400000</td>\n",
       "    </tr>\n",
       "    <tr>\n",
       "      <th>5</th>\n",
       "      <td>0.24487217</td>\n",
       "      <td>http://rdata2graph.sap.com/hilti_web/property/products.pid</td>\n",
       "      <td>0.166667</td>\n",
       "      <td>6.4192004</td>\n",
       "      <td>0.166667</td>\n",
       "      <td>0.333333</td>\n",
       "    </tr>\n",
       "  </tbody>\n",
       "</table>\n",
       "</div>"
      ],
      "text/plain": [
       "          0_x  \\\n",
       "0  0.4203984    \n",
       "1  0.39470083   \n",
       "2  0.3130224    \n",
       "3  0.29238838   \n",
       "4  0.28182098   \n",
       "5  0.24487217   \n",
       "\n",
       "                                                                      1  \\\n",
       "0  http://rdata2graph.sap.com/hilti_web/property/categories.description   \n",
       "1  http://rdata2graph.sap.com/hilti_web/property/categories.id            \n",
       "2  http://rdata2graph.sap.com/hilti_web/property/products.name            \n",
       "3  http://rdata2graph.sap.com/hilti_web/property/products.description     \n",
       "4  http://rdata2graph.sap.com/hilti_web/property/categories.name          \n",
       "5  http://rdata2graph.sap.com/hilti_web/property/products.pid             \n",
       "\n",
       "    score_x        0_y   score_y  total_score  \n",
       "0  1.000000  3.7947602  1.000000  2.000000     \n",
       "1  0.500000  4.009787   0.500000  1.000000     \n",
       "2  0.333333  5.1442666  0.250000  0.583333     \n",
       "3  0.250000  4.7210054  0.333333  0.583333     \n",
       "4  0.200000  6.1803412  0.200000  0.400000     \n",
       "5  0.166667  6.4192004  0.166667  0.333333     "
      ]
     },
     "execution_count": 82,
     "metadata": {},
     "output_type": "execute_result"
    }
   ],
   "source": [
    "sorted_x"
   ]
  },
  {
   "cell_type": "code",
   "execution_count": 47,
   "metadata": {},
   "outputs": [
    {
     "data": {
      "text/html": [
       "<div>\n",
       "<style scoped>\n",
       "    .dataframe tbody tr th:only-of-type {\n",
       "        vertical-align: middle;\n",
       "    }\n",
       "\n",
       "    .dataframe tbody tr th {\n",
       "        vertical-align: top;\n",
       "    }\n",
       "\n",
       "    .dataframe thead th {\n",
       "        text-align: right;\n",
       "    }\n",
       "</style>\n",
       "<table border=\"1\" class=\"dataframe\">\n",
       "  <thead>\n",
       "    <tr style=\"text-align: right;\">\n",
       "      <th></th>\n",
       "      <th>0</th>\n",
       "      <th>1</th>\n",
       "      <th>2</th>\n",
       "    </tr>\n",
       "  </thead>\n",
       "  <tbody>\n",
       "    <tr>\n",
       "      <th>0</th>\n",
       "      <td>a</td>\n",
       "      <td>b</td>\n",
       "      <td>c</td>\n",
       "    </tr>\n",
       "    <tr>\n",
       "      <th>1</th>\n",
       "      <td>1</td>\n",
       "      <td>5</td>\n",
       "      <td>7</td>\n",
       "    </tr>\n",
       "    <tr>\n",
       "      <th>2</th>\n",
       "      <td>3</td>\n",
       "      <td>8</td>\n",
       "      <td>8</td>\n",
       "    </tr>\n",
       "  </tbody>\n",
       "</table>\n",
       "</div>"
      ],
      "text/plain": [
       "   0  1  2\n",
       "0  a  b  c\n",
       "1  1  5  7\n",
       "2  3  8  8"
      ]
     },
     "execution_count": 47,
     "metadata": {},
     "output_type": "execute_result"
    }
   ],
   "source": [
    "import pandas as pd\n",
    "x = pd.DataFrame([['a','b','c'],[1,5,7],[3,8,8]])\n",
    "x"
   ]
  },
  {
   "cell_type": "code",
   "execution_count": 48,
   "metadata": {},
   "outputs": [
    {
     "data": {
      "text/plain": [
       "array([0.09699644, 1.        ])"
      ]
     },
     "execution_count": 48,
     "metadata": {},
     "output_type": "execute_result"
    }
   ],
   "source": [
    "a = np.array([[0.20947344601154327,-0.05213532969355583],[0.20947344601154327,-0.05213532969355583]])\n",
    "b = np.array([[-0.036627139896154404,-0.24773931503295898],[0.20947344601154327,-0.05213532969355583]])\n",
    "cosine_similarity(a,b)[0]"
   ]
  },
  {
   "cell_type": "code",
   "execution_count": null,
   "metadata": {},
   "outputs": [],
   "source": []
  },
  {
   "cell_type": "code",
   "execution_count": null,
   "metadata": {},
   "outputs": [],
   "source": []
  },
  {
   "cell_type": "code",
   "execution_count": 129,
   "metadata": {},
   "outputs": [],
   "source": [
    "nodeid = 'http://rdata2graph.sap.com/hilti_erp/kwik_lock_150_assy#87d1d7cd-5ff6-4adb-9960-e5244a26ea9d'\n",
    "for index, value in documents_ids_A.items():\n",
    "    if value == nodeid:\n",
    "        i = index\n",
    "nodeid2 = 'http://rdata2graph.sap.com/hilti_web/5_8_kwik_lock_spindle_dd_cs#d059d940-5225-46b5-a5ed-a94535564f64'\n",
    "for index, value in documents_ids_B.items():\n",
    "    if value == nodeid2:\n",
    "        i2 = index\n",
    "a = np.array([model.infer_vector(training_corpus[i])])#np.array([model.docvecs[i]])\n",
    "b = np.array([model.infer_vector(training_corpus[i2])])#np.array([model.docvecs[i2]])"
   ]
  },
  {
   "cell_type": "raw",
   "metadata": {},
   "source": []
  },
  {
   "cell_type": "code",
   "execution_count": 130,
   "metadata": {},
   "outputs": [
    {
     "name": "stdout",
     "output_type": "stream",
     "text": [
      "[0.78147936]\n",
      "[2.1596375]\n"
     ]
    }
   ],
   "source": [
    "print(cosine_similarity(a,b)[0])\n",
    "print(euclidean_distances(a,b)[0])"
   ]
  },
  {
   "cell_type": "code",
   "execution_count": 117,
   "metadata": {},
   "outputs": [
    {
     "name": "stdout",
     "output_type": "stream",
     "text": [
      "[0.9788133]\n",
      "[0.8127318]\n"
     ]
    }
   ],
   "source": [
    "print(cosine_similarity(a,b)[0])\n",
    "print(euclidean_distances(a,b)[0])"
   ]
  },
  {
   "cell_type": "code",
   "execution_count": 118,
   "metadata": {},
   "outputs": [
    {
     "data": {
      "text/plain": [
       "array([0.02674646, 1.2861257 ], dtype=float32)"
      ]
     },
     "execution_count": 118,
     "metadata": {},
     "output_type": "execute_result"
    }
   ],
   "source": [
    "context = ['http://rdata2graph.sap.com/hilti_erp/stator_110_120v#6dd99497-b3ad-4b7c-9224-519d68aff549', 'sta', 'tat', 'ato', 'tor', '110', '101', '012', '120', '20v', 'http://rdata2graph.sap.com/hilti_erp/#7fc668f7-bc87-4ef0-9686-62c76b4479d2', 'ele', 'lec', 'ect', 'ctr', 'tro', 'ron', 'mod', 'odu', 'dul', '345', 'ele', 'lec', 'ect', 'ctr', 'tro', 'ron', 'mod', 'odu', 'dul', '000', '001', '100', 'z00', '001', 'http://rdata2graph.sap.com/hilti_erp/t023', 'http://rdata2graph.sap.com/hilti_erp/#0e08a169-a93c-4c44-a608-820a1543aa56', 'm', 'm', 'bef', 'efe', 'fes', 'est', 'sti', 'tig', 'igu', 'gun', 'ung', 'ngs', 'gsi', 'sin', 'ind', 'ndu', 'dus', 'ust', 'str', 'tri', 'm', 'http://rdata2graph.sap.com/hilti_erp/v137', 'http://rdata2graph.sap.com/hilti_erp/#08afb57f-34d6-4bf3-9752-df939bff7578', 'eb', 'par', 'art', '9', 'http://rdata2graph.sap.com/hilti_erp/t179', 'http://rdata2graph.sap.com/hilti_erp/mara_fert', 'http://www.w3.org/2000/01/rdf-schema#class', 'http://rdata2graph.sap.com/hilti_erp/stator_110_120v#6dd99497-b3ad-4b7c-9224-519d68aff549', 'sta', 'tat', 'ato', 'tor', '110', '101', '012', '120', '20v', 'http://rdata2graph.sap.com/hilti_erp/#7fc668f7-bc87-4ef0-9686-62c76b4479d2', 'ele', 'lec', 'ect', 'ctr', 'tro', 'ron', 'mod', 'odu', 'dul', '345', 'ele', 'lec', 'ect', 'ctr', 'tro', 'ron', 'mod', 'odu', 'dul', '000', '001', '100', 'z00', '001', 'http://rdata2graph.sap.com/hilti_erp/t023', 'http://rdata2graph.sap.com/hilti_erp/#0e08a169-a93c-4c44-a608-820a1543aa56', 'm', 'm', 'bef', 'efe', 'fes', 'est', 'sti', 'tig', 'igu', 'gun', 'ung', 'ngs', 'gsi', 'sin', 'ind', 'ndu', 'dus', 'ust', 'str', 'tri', 'm', 'http://rdata2graph.sap.com/hilti_erp/v137', 'http://rdata2graph.sap.com/hilti_erp/#08afb57f-34d6-4bf3-9752-df939bff7578', 'eb', 'par', 'art', '9', 'http://rdata2graph.sap.com/hilti_erp/t179', 'http://rdata2graph.sap.com/hilti_erp/mara_fert', 'http://www.w3.org/2000/01/rdf-schema#class']\n",
    "model.infer_vector(context)"
   ]
  },
  {
   "cell_type": "code",
   "execution_count": 119,
   "metadata": {},
   "outputs": [
    {
     "data": {
      "text/plain": [
       "array([-0.15971136,  1.0846955 ], dtype=float32)"
      ]
     },
     "execution_count": 119,
     "metadata": {},
     "output_type": "execute_result"
    }
   ],
   "source": [
    "model.docvecs[823]"
   ]
  },
  {
   "cell_type": "code",
   "execution_count": 37,
   "metadata": {},
   "outputs": [
    {
     "data": {
      "text/plain": [
       "{'http://rdata2graph.sap.com/hilti_erp/mara_fert',\n",
       " 'http://rdata2graph.sap.com/hilti_erp/t023',\n",
       " 'http://rdata2graph.sap.com/hilti_erp/t179',\n",
       " 'http://rdata2graph.sap.com/hilti_erp/v137',\n",
       " 'http://rdata2graph.sap.com/hilti_web/categories',\n",
       " 'http://rdata2graph.sap.com/hilti_web/products',\n",
       " 'http://www.w3.org/2000/01/rdf-schema#class',\n",
       " 'http://www.w3.org/2000/01/rdf-schema#property',\n",
       " 'none'}"
      ]
     },
     "execution_count": 37,
     "metadata": {},
     "output_type": "execute_result"
    }
   ],
   "source": [
    "tmp = pd.read_csv(dirpath+\"stratified_embeddings.csv\", sep=\",\")\n",
    "classes = set(tmp.category)\n",
    "classes"
   ]
  },
  {
   "cell_type": "code",
   "execution_count": 40,
   "metadata": {},
   "outputs": [
    {
     "data": {
      "text/plain": [
       "['http://rdata2graph.sap.com/hilti_erp/property/t023.abtnr',\n",
       " 'http://rdata2graph.sap.com/hilti_erp/property/t023.zz_inactive',\n",
       " 'http://rdata2graph.sap.com/hilti_erp/property/t023.spart',\n",
       " 'http://rdata2graph.sap.com/hilti_erp/property/t023.id',\n",
       " 'http://rdata2graph.sap.com/hilti_erp/property/t006.temp_value',\n",
       " 'http://rdata2graph.sap.com/hilti_erp/property/t023.lref3',\n",
       " 'http://rdata2graph.sap.com/hilti_erp/property/t006.andec',\n",
       " 'http://rdata2graph.sap.com/hilti_erp/property/t179.id',\n",
       " 'http://rdata2graph.sap.com/hilti_erp/property/t023.wwgda',\n",
       " 'http://rdata2graph.sap.com/hilti_erp/property/t006.press_val',\n",
       " 'http://rdata2graph.sap.com/hilti_erp/property/v137.id',\n",
       " 'http://rdata2graph.sap.com/hilti_erp/property/t023.zz_aedat',\n",
       " 'http://rdata2graph.sap.com/hilti_web/property/categories.name',\n",
       " 'http://rdata2graph.sap.com/hilti_erp/property/v137.bbref',\n",
       " 'http://rdata2graph.sap.com/hilti_web/property/categories.description',\n",
       " 'http://rdata2graph.sap.com/hilti_erp/property/t179.stufe',\n",
       " 'http://rdata2graph.sap.com/hilti_erp/property/t006.addko',\n",
       " 'http://rdata2graph.sap.com/hilti_erp/property/v137.mbbez',\n",
       " 'http://rdata2graph.sap.com/hilti_erp/property/t006.kzex6',\n",
       " 'http://rdata2graph.sap.com/hilti_erp/property/t023.j_1bnbm',\n",
       " 'http://rdata2graph.sap.com/hilti_erp/property/t023.wwgpa',\n",
       " 'http://rdata2graph.sap.com/hilti_erp/property/v137.branchenbezeichnung',\n",
       " 'http://rdata2graph.sap.com/hilti_erp/property/t006.kzkeh',\n",
       " 'http://rdata2graph.sap.com/hilti_erp/property/t023.ekwsl',\n",
       " 'http://rdata2graph.sap.com/hilti_erp/property/t006.expon',\n",
       " 'http://rdata2graph.sap.com/hilti_erp/property/v137.brare',\n",
       " 'http://rdata2graph.sap.com/hilti_erp/property/t179.mandt',\n",
       " 'http://rdata2graph.sap.com/hilti_erp/property/t023.bklas',\n",
       " 'http://rdata2graph.sap.com/hilti_erp/property/t023.wgbez60',\n",
       " 'http://rdata2graph.sap.com/hilti_erp/property/t023.zz_aenam',\n",
       " 'http://rdata2graph.sap.com/hilti_erp/property/t023.def_schdsc',\n",
       " 'http://rdata2graph.sap.com/hilti_erp/property/t023.matkl',\n",
       " 'http://rdata2graph.sap.com/hilti_erp/property/t023.begru',\n",
       " 'http://rdata2graph.sap.com/hilti_erp/property/t179.description',\n",
       " 'http://rdata2graph.sap.com/hilti_erp/property/t006.kz2eh',\n",
       " 'http://rdata2graph.sap.com/hilti_erp/property/t006.decan',\n",
       " 'http://rdata2graph.sap.com/hilti_erp/property/v137.bbr',\n",
       " 'http://rdata2graph.sap.com/hilti_erp/property/t006.msehi',\n",
       " 'http://rdata2graph.sap.com/hilti_erp/property/t006.temp_unit',\n",
       " 'http://rdata2graph.sap.com/hilti_erp/property/v137.mbr',\n",
       " 'http://rdata2graph.sap.com/hilti_erp/property/t023.wgbez',\n",
       " 'http://rdata2graph.sap.com/hilti_web/property/categories.id',\n",
       " 'http://rdata2graph.sap.com/hilti_erp/property/t006.primary',\n",
       " 'http://rdata2graph.sap.com/hilti_erp/property/t023.zz_ekgrp',\n",
       " 'http://rdata2graph.sap.com/hilti_erp/property/t006.isocode',\n",
       " 'http://rdata2graph.sap.com/hilti_erp/property/t023.gewei',\n",
       " 'http://rdata2graph.sap.com/hilti_erp/property/t006.kzex3',\n",
       " 'http://rdata2graph.sap.com/hilti_erp/property/t006.kzwob',\n",
       " 'http://rdata2graph.sap.com/hilti_erp/property/t179.levelno',\n",
       " 'http://rdata2graph.sap.com/hilti_erp/property/t006.kz1eh',\n",
       " 'http://rdata2graph.sap.com/hilti_erp/property/t006.mandt',\n",
       " 'http://rdata2graph.sap.com/hilti_erp/property/v137.flref',\n",
       " 'http://rdata2graph.sap.com/hilti_web/property/products.pid',\n",
       " 'http://rdata2graph.sap.com/hilti_erp/property/t006.zaehl',\n",
       " 'http://rdata2graph.sap.com/hilti_erp/property/t006.famunit',\n",
       " 'http://rdata2graph.sap.com/hilti_erp/property/t006.press_unit',\n",
       " 'http://rdata2graph.sap.com/hilti_erp/property/t006.nennr',\n",
       " 'http://rdata2graph.sap.com/hilti_web/property/products.description',\n",
       " 'http://rdata2graph.sap.com/hilti_erp/property/t179.prodh',\n",
       " 'http://rdata2graph.sap.com/hilti_erp/property/t023.anlkl',\n",
       " 'http://rdata2graph.sap.com/hilti_erp/property/v137.mbrsh',\n",
       " 'http://rdata2graph.sap.com/hilti_web/property/products.name',\n",
       " 'http://rdata2graph.sap.com/hilti_erp/property/t006.dimid',\n",
       " 'http://rdata2graph.sap.com/hilti_erp/property/t023.mandt',\n",
       " 'http://rdata2graph.sap.com/hilti_erp/property/t006.exp10',\n",
       " 'http://rdata2graph.sap.com/hilti_erp/property/t023.price_group',\n",
       " 'http://rdata2graph.sap.com/hilti_erp/property/v137.mandt']"
      ]
     },
     "execution_count": 40,
     "metadata": {},
     "output_type": "execute_result"
    }
   ],
   "source": [
    "properties = [x for x in set(tmp.loc[tmp.category == 'http://www.w3.org/2000/01/rdf-schema#property'].label) if 'mara_fert.' not in x]\n",
    "properties"
   ]
  },
  {
   "cell_type": "code",
   "execution_count": 83,
   "metadata": {},
   "outputs": [
    {
     "data": {
      "text/plain": [
       "[['abc'], 'bd']"
      ]
     },
     "execution_count": 83,
     "metadata": {},
     "output_type": "execute_result"
    }
   ],
   "source": [
    "[['abc']]+['bd']"
   ]
  },
  {
   "cell_type": "code",
   "execution_count": null,
   "metadata": {},
   "outputs": [],
   "source": []
  }
 ],
 "metadata": {
  "kernelspec": {
   "display_name": "Python 3",
   "language": "python",
   "name": "python3"
  },
  "language_info": {
   "codemirror_mode": {
    "name": "ipython",
    "version": 3
   },
   "file_extension": ".py",
   "mimetype": "text/x-python",
   "name": "python",
   "nbconvert_exporter": "python",
   "pygments_lexer": "ipython3",
   "version": "3.6.8"
  }
 },
 "nbformat": 4,
 "nbformat_minor": 2
}
